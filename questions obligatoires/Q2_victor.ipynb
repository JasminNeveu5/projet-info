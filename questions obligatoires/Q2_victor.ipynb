{
 "cells": [
  {
   "cell_type": "markdown",
   "metadata": {},
   "source": [
    "# Question 2\n",
    "\n",
    "**Quel était le classement des pilotes à l'issue de la saison 2023 ? Gérer les cas d'égalité (nombre de victoires, deuxièmes places, etc.).**"
   ]
  },
  {
   "cell_type": "code",
   "execution_count": null,
   "metadata": {},
   "outputs": [
    {
     "data": {
      "text/plain": [
       "0         1\n",
       "1         2\n",
       "2         3\n",
       "3         4\n",
       "4         5\n",
       "         ..\n",
       "26514    16\n",
       "26515    17\n",
       "26516    18\n",
       "26517     R\n",
       "26518     W\n",
       "Name: positionText, Length: 26519, dtype: object"
      ]
     },
     "execution_count": 42,
     "metadata": {},
     "output_type": "execute_result"
    }
   ],
   "source": [
    "import pandas as pd\n",
    "\n",
    "drivers = pd.read_csv('../data/drivers.csv')\n",
    "results = pd.read_csv('../data/results.csv')\n"
   ]
  },
  {
   "cell_type": "markdown",
   "metadata": {},
   "source": [
    "## Résolution\n",
    "\n",
    "D'abord on regarde la 'positionOrder' (le rang final d'un pilote). Cependant il y a beaucoup d'égalités. On va également combiner avec le nombre de points.\n",
    "\n",
    "Puisque l'on a le choix de la méthode de classement, je choisis de créer une colonne rating qui est une combinaison de la positionOrder et du nombre de points. On va ensuite trier par rating pour obtenir le classement final."
   ]
  },
  {
   "cell_type": "code",
   "execution_count": 39,
   "metadata": {},
   "outputs": [
    {
     "data": {
      "text/html": [
       "<div>\n",
       "<style scoped>\n",
       "    .dataframe tbody tr th:only-of-type {\n",
       "        vertical-align: middle;\n",
       "    }\n",
       "\n",
       "    .dataframe tbody tr th {\n",
       "        vertical-align: top;\n",
       "    }\n",
       "\n",
       "    .dataframe thead th {\n",
       "        text-align: right;\n",
       "    }\n",
       "</style>\n",
       "<table border=\"1\" class=\"dataframe\">\n",
       "  <thead>\n",
       "    <tr style=\"text-align: right;\">\n",
       "      <th></th>\n",
       "      <th>forename</th>\n",
       "      <th>surname</th>\n",
       "      <th>rating</th>\n",
       "    </tr>\n",
       "  </thead>\n",
       "  <tbody>\n",
       "    <tr>\n",
       "      <th>0</th>\n",
       "      <td>Lewis</td>\n",
       "      <td>Hamilton</td>\n",
       "      <td>4703.5</td>\n",
       "    </tr>\n",
       "    <tr>\n",
       "      <th>19</th>\n",
       "      <td>Sebastian</td>\n",
       "      <td>Vettel</td>\n",
       "      <td>3088.0</td>\n",
       "    </tr>\n",
       "    <tr>\n",
       "      <th>828</th>\n",
       "      <td>Max</td>\n",
       "      <td>Verstappen</td>\n",
       "      <td>2734.5</td>\n",
       "    </tr>\n",
       "    <tr>\n",
       "      <th>3</th>\n",
       "      <td>Fernando</td>\n",
       "      <td>Alonso</td>\n",
       "      <td>2294.0</td>\n",
       "    </tr>\n",
       "    <tr>\n",
       "      <th>7</th>\n",
       "      <td>Kimi</td>\n",
       "      <td>Räikkönen</td>\n",
       "      <td>1863.0</td>\n",
       "    </tr>\n",
       "    <tr>\n",
       "      <th>...</th>\n",
       "      <td>...</td>\n",
       "      <td>...</td>\n",
       "      <td>...</td>\n",
       "    </tr>\n",
       "    <tr>\n",
       "      <th>149</th>\n",
       "      <td>Gary</td>\n",
       "      <td>Brabham</td>\n",
       "      <td>-340.0</td>\n",
       "    </tr>\n",
       "    <tr>\n",
       "      <th>265</th>\n",
       "      <td>Brian</td>\n",
       "      <td>McGuire</td>\n",
       "      <td>-350.0</td>\n",
       "    </tr>\n",
       "    <tr>\n",
       "      <th>163</th>\n",
       "      <td>Joachim</td>\n",
       "      <td>Winkelhock</td>\n",
       "      <td>-350.0</td>\n",
       "    </tr>\n",
       "    <tr>\n",
       "      <th>133</th>\n",
       "      <td>Enrico</td>\n",
       "      <td>Bertaggia</td>\n",
       "      <td>-380.0</td>\n",
       "    </tr>\n",
       "    <tr>\n",
       "      <th>491</th>\n",
       "      <td>Menato</td>\n",
       "      <td>Boffa</td>\n",
       "      <td>-380.0</td>\n",
       "    </tr>\n",
       "  </tbody>\n",
       "</table>\n",
       "<p>859 rows × 3 columns</p>\n",
       "</div>"
      ],
      "text/plain": [
       "      forename     surname  rating\n",
       "0        Lewis    Hamilton  4703.5\n",
       "19   Sebastian      Vettel  3088.0\n",
       "828        Max  Verstappen  2734.5\n",
       "3     Fernando      Alonso  2294.0\n",
       "7         Kimi   Räikkönen  1863.0\n",
       "..         ...         ...     ...\n",
       "149       Gary     Brabham  -340.0\n",
       "265      Brian     McGuire  -350.0\n",
       "163    Joachim  Winkelhock  -350.0\n",
       "133     Enrico   Bertaggia  -380.0\n",
       "491     Menato       Boffa  -380.0\n",
       "\n",
       "[859 rows x 3 columns]"
      ]
     },
     "execution_count": 39,
     "metadata": {},
     "output_type": "execute_result"
    }
   ],
   "source": [
    "results[['driverId', 'positionOrder']]\n",
    "\n",
    "results_join_drivers = pd.merge(drivers,results, on='driverId')[[\"driverId\",\"forename\", \"surname\", \"positionOrder\",\"points\"]].sort_values(by='points', ascending=False)\n",
    "\n",
    "grouped_results = results_join_drivers.groupby('driverId').agg({\n",
    "    'points': 'sum',\n",
    "    'positionOrder': 'min',\n",
    "    'forename': 'first',\n",
    "    'surname': 'first'\n",
    "}).reset_index()\n",
    "\n",
    "grouped_results['rating'] = grouped_results['points'] - (grouped_results['positionOrder'] * 10)\n",
    "grouped_results[[\"forename\",\"surname\",\"rating\"]].sort_values(by='rating', ascending=False)\n",
    "\n",
    "# TODO : rating pas unique donc il faut rajouter des conditions"
   ]
  },
  {
   "cell_type": "markdown",
   "metadata": {},
   "source": [
    "## Transformation de \"PositionText\"\n",
    "\n",
    "Il faut transformer \"R\" et \"F\" en entiers.\n",
    "\n",
    "- R = Retired (a abandonné)\n",
    "- F = Finisher (a fini la course)"
   ]
  },
  {
   "cell_type": "markdown",
   "metadata": {},
   "source": []
  }
 ],
 "metadata": {
  "kernelspec": {
   "display_name": "Python 3",
   "language": "python",
   "name": "python3"
  },
  "language_info": {
   "codemirror_mode": {
    "name": "ipython",
    "version": 3
   },
   "file_extension": ".py",
   "mimetype": "text/x-python",
   "name": "python",
   "nbconvert_exporter": "python",
   "pygments_lexer": "ipython3",
   "version": "3.12.9"
  }
 },
 "nbformat": 4,
 "nbformat_minor": 2
}
