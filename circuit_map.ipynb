{
 "cells": [
  {
   "metadata": {},
   "cell_type": "markdown",
   "source": [
    "## Interactive Map with a Year Slider to Fetch All Qualifying Times\n",
    "This\n",
    "notebook\n",
    "creates\n",
    "an\n",
    "interactive\n",
    "map\n",
    "that\n",
    "allows\n",
    "users\n",
    "to\n",
    "select\n",
    "a\n",
    "circuit\n",
    "on\n",
    "a\n",
    "map and use\n",
    "a\n",
    "slider\n",
    "to\n",
    "choose\n",
    "a\n",
    "year.When\n",
    "clicking\n",
    "on\n",
    "a\n",
    "circuit, the\n",
    "map\n",
    "fetches\n",
    "the\n",
    "maximum\n",
    "qualifying\n",
    "times(`q1`, `q2`, `q3`)\n",
    "for the specified circuit and year.\n"
   ],
   "id": "bcc81affbcf4ef5e"
  },
  {
   "metadata": {
    "ExecuteTime": {
     "end_time": "2025-04-01T09:05:32.307571Z",
     "start_time": "2025-04-01T09:05:32.298541Z"
    }
   },
   "cell_type": "code",
   "source": [
    "# Required imports for the implementation\n",
    "import folium\n",
    "from folium.plugins import MarkerCluster\n",
    "from ipywidgets import interact, IntSlider, Output\n",
    "from IPython.display import display\n",
    "import requests\n",
    "import pandas as pd\n",
    "\n",
    "# Load circuit data from file or API\n",
    "circuits = pd.read_csv(\n",
    "    \"../data/circuits.csv\"\n",
    ")  # Assuming circuits file contains latitude, longitude, and id fields\n",
    "\n",
    "# Define base URL for the API\n",
    "API_BASE_URL = \"http://localhost:8000\"  # Replace with your actual API base URL"
   ],
   "id": "fa645457b3628d3e",
   "outputs": [],
   "execution_count": 6
  },
  {
   "metadata": {
    "ExecuteTime": {
     "end_time": "2025-04-01T09:05:33.468326Z",
     "start_time": "2025-04-01T09:05:33.458260Z"
    }
   },
   "cell_type": "code",
   "source": [
    "# Create a function to generate the map\n",
    "def generate_map(year):\n",
    "    \"\"\"\n",
    "    Generate an interactive map for circuits with a given year.\n",
    "    Clicking on a circuit displays its max qualifying times retrieved from the API.\n",
    "\n",
    "    :param year: An integer for the selected year, passed from the slider.\n",
    "    :return: Displays an interactive map object.\n",
    "    \"\"\"\n",
    "    # Create an output widget for displaying API results\n",
    "    output = Output()\n",
    "\n",
    "    # Initialize the map centered on the average coordinates\n",
    "    m = folium.Map(location=[circuits[\"lat\"].mean(), circuits[\"lng\"].mean()], zoom_start=2)\n",
    "\n",
    "    # Create a marker cluster\n",
    "    marker_cluster = MarkerCluster().add_to(m)\n",
    "\n",
    "    # Add markers for each circuit\n",
    "    for index, row in circuits.iterrows():\n",
    "        # Extract information from the row (ensure columns exist in the CSV)\n",
    "        circuit_ref = row[\"circuitRef\"]\n",
    "        circuit_name = row.get(\"name\", \"Unknown Circuit\")\n",
    "        lat, lng = row[\"lat\"], row[\"lng\"]\n",
    "\n",
    "        # Add a marker with a clickable popup\n",
    "        def add_marker_to_map():\n",
    "            \"\"\"\n",
    "            Define the action for the marker popup when clicked.\n",
    "            \"\"\"\n",
    "\n",
    "            # Fetch results from API for the circuit and year\n",
    "            def fetch_results():\n",
    "                try:\n",
    "                    # Perform the API call\n",
    "                    response = requests.get(\n",
    "                        f\"{API_BASE_URL}/temps_dernier_qualif_{circuit_ref}_{year}\"\n",
    "                    )\n",
    "                    if response.status_code == 200:\n",
    "                        # Parse and display the qualifying times\n",
    "                        response_data = response.json()\n",
    "\n",
    "                        # Skip marker if no valid qualifying data\n",
    "                        if not (\n",
    "                            response_data.get(\"q1\")\n",
    "                            or response_data.get(\"q2\")\n",
    "                            or response_data.get(\"q3\")\n",
    "                        ):\n",
    "                            return None\n",
    "\n",
    "                        display_text = (\n",
    "                            f\"<strong>Circuit:</strong> {circuit_name}<br>\"\n",
    "                            f\"<strong>Year:</strong> {year}<br>\"\n",
    "                            f\"<strong>Q1:</strong> {response_data.get('q1', 'N/A')}<br>\"\n",
    "                            f\"<strong>Q2:</strong> {response_data.get('q2', 'N/A')}<br>\"\n",
    "                            f\"<strong>Q3:</strong> {response_data.get('q3', 'N/A')}<br>\"\n",
    "                        )\n",
    "                        return folium.Popup(display_text, max_width=300)\n",
    "                    else:\n",
    "                        # Display error message\n",
    "                        return folium.Popup(\n",
    "                            f\"Error {response.status_code}: {response.json().get('detail', 'No details')}\",\n",
    "                            max_width=300,\n",
    "                        )\n",
    "                except Exception as e:\n",
    "                    return folium.Popup(f\"Error occurred while fetching data: {e}\", max_width=300)\n",
    "\n",
    "            # Fetch results and create dynamic popup\n",
    "            popup = fetch_results()\n",
    "\n",
    "            # Add marker only if valid popup is returned\n",
    "            if popup:\n",
    "                folium.Marker(\n",
    "                    location=[lat, lng],\n",
    "                    popup=popup,\n",
    "                    tooltip=f\"{circuit_name}\",\n",
    "                    color=\"pink\",\n",
    "                ).add_to(marker_cluster)\n",
    "\n",
    "        add_marker_to_map()\n",
    "\n",
    "    # Render the output widget (to show results below the map)\n",
    "    display(output)\n",
    "    return m"
   ],
   "id": "f54546b54137062f",
   "outputs": [],
   "execution_count": 7
  },
  {
   "metadata": {
    "ExecuteTime": {
     "end_time": "2025-04-01T09:06:01.764706Z",
     "start_time": "2025-04-01T09:05:34.504515Z"
    }
   },
   "cell_type": "code",
   "source": [
    "# Define an interactive function to update the map\n",
    "slider = IntSlider(\n",
    "    min=1950,\n",
    "    max=2024,\n",
    "    step=1,\n",
    "    value=2000,\n",
    "    description=\"Year\",\n",
    "    continuous_update=False,  # Avoid unnecessary updates\n",
    ")\n",
    "\n",
    "\n",
    "@interact(year=slider)\n",
    "def update_map(year):\n",
    "    \"\"\"\n",
    "    Update the map based on the selected year using the slider.\n",
    "    \"\"\"\n",
    "    display(generate_map(year))"
   ],
   "id": "dc747f0a1bd07844",
   "outputs": [
    {
     "data": {
      "text/plain": [
       "interactive(children=(IntSlider(value=2000, continuous_update=False, description='Year', max=2024, min=1950), …"
      ],
      "application/vnd.jupyter.widget-view+json": {
       "version_major": 2,
       "version_minor": 0,
       "model_id": "204e23e6f949488794384ddb3ffbf601"
      }
     },
     "metadata": {},
     "output_type": "display_data"
    }
   ],
   "execution_count": 8
  }
 ],
 "metadata": {
  "kernelspec": {
   "name": "python3",
   "language": "python",
   "display_name": "Python 3 (ipykernel)"
  }
 },
 "nbformat": 5,
 "nbformat_minor": 9
}
