{
 "cells": [
  {
   "metadata": {},
   "cell_type": "markdown",
   "source": "# Pour chaque ville / circuit, quel est le temps maximum pour être qualifié ?",
   "id": "4d617ed60933489d"
  },
  {
   "metadata": {
    "ExecuteTime": {
     "end_time": "2025-03-27T10:28:40.155869Z",
     "start_time": "2025-03-27T10:28:40.115679Z"
    }
   },
   "cell_type": "code",
   "source": [
    "import pandas as pd\n",
    "\n",
    "qualif = pd.read_csv(\"../data/qualifying.csv\")\n",
    "circuits = pd.read_csv(\"../data/circuits.csv\")\n",
    "races = pd.read_csv(\"../data/races.csv\")\n",
    "\n",
    "# On construit la table avec que les données importantes\n",
    "races_plus_circuits = pd.merge(races, circuits, on=\"circuitId\")\n",
    "\n",
    "interesting_datas = pd.merge(qualif, races_plus_circuits, on=\"raceId\")[[\"circuitId\",\"circuitRef\",\"q1\",\"q2\",\"q3\"]]"
   ],
   "id": "f5cc124d6a6ba22c",
   "outputs": [
    {
     "data": {
      "text/plain": [
       "       circuitId   circuitRef        q1        q2        q3\n",
       "0              1  albert_park  1:26.572  1:25.187  1:26.714\n",
       "1              1  albert_park  1:26.103  1:25.315  1:26.869\n",
       "2              1  albert_park  1:25.664  1:25.452  1:27.079\n",
       "3              1  albert_park  1:25.994  1:25.691  1:27.178\n",
       "4              1  albert_park  1:25.960  1:25.518  1:27.236\n",
       "...          ...          ...       ...       ...       ...\n",
       "10249          9  silverstone  1:32.431        \\N        \\N\n",
       "10250          9  silverstone  1:32.905        \\N        \\N\n",
       "10251          9  silverstone  1:34.557        \\N        \\N\n",
       "10252          9  silverstone  1:38.348        \\N        \\N\n",
       "10253          9  silverstone  1:39.804        \\N        \\N\n",
       "\n",
       "[10254 rows x 5 columns]"
      ],
      "text/html": [
       "<div>\n",
       "<style scoped>\n",
       "    .dataframe tbody tr th:only-of-type {\n",
       "        vertical-align: middle;\n",
       "    }\n",
       "\n",
       "    .dataframe tbody tr th {\n",
       "        vertical-align: top;\n",
       "    }\n",
       "\n",
       "    .dataframe thead th {\n",
       "        text-align: right;\n",
       "    }\n",
       "</style>\n",
       "<table border=\"1\" class=\"dataframe\">\n",
       "  <thead>\n",
       "    <tr style=\"text-align: right;\">\n",
       "      <th></th>\n",
       "      <th>circuitId</th>\n",
       "      <th>circuitRef</th>\n",
       "      <th>q1</th>\n",
       "      <th>q2</th>\n",
       "      <th>q3</th>\n",
       "    </tr>\n",
       "  </thead>\n",
       "  <tbody>\n",
       "    <tr>\n",
       "      <th>0</th>\n",
       "      <td>1</td>\n",
       "      <td>albert_park</td>\n",
       "      <td>1:26.572</td>\n",
       "      <td>1:25.187</td>\n",
       "      <td>1:26.714</td>\n",
       "    </tr>\n",
       "    <tr>\n",
       "      <th>1</th>\n",
       "      <td>1</td>\n",
       "      <td>albert_park</td>\n",
       "      <td>1:26.103</td>\n",
       "      <td>1:25.315</td>\n",
       "      <td>1:26.869</td>\n",
       "    </tr>\n",
       "    <tr>\n",
       "      <th>2</th>\n",
       "      <td>1</td>\n",
       "      <td>albert_park</td>\n",
       "      <td>1:25.664</td>\n",
       "      <td>1:25.452</td>\n",
       "      <td>1:27.079</td>\n",
       "    </tr>\n",
       "    <tr>\n",
       "      <th>3</th>\n",
       "      <td>1</td>\n",
       "      <td>albert_park</td>\n",
       "      <td>1:25.994</td>\n",
       "      <td>1:25.691</td>\n",
       "      <td>1:27.178</td>\n",
       "    </tr>\n",
       "    <tr>\n",
       "      <th>4</th>\n",
       "      <td>1</td>\n",
       "      <td>albert_park</td>\n",
       "      <td>1:25.960</td>\n",
       "      <td>1:25.518</td>\n",
       "      <td>1:27.236</td>\n",
       "    </tr>\n",
       "    <tr>\n",
       "      <th>...</th>\n",
       "      <td>...</td>\n",
       "      <td>...</td>\n",
       "      <td>...</td>\n",
       "      <td>...</td>\n",
       "      <td>...</td>\n",
       "    </tr>\n",
       "    <tr>\n",
       "      <th>10249</th>\n",
       "      <td>9</td>\n",
       "      <td>silverstone</td>\n",
       "      <td>1:32.431</td>\n",
       "      <td>\\N</td>\n",
       "      <td>\\N</td>\n",
       "    </tr>\n",
       "    <tr>\n",
       "      <th>10250</th>\n",
       "      <td>9</td>\n",
       "      <td>silverstone</td>\n",
       "      <td>1:32.905</td>\n",
       "      <td>\\N</td>\n",
       "      <td>\\N</td>\n",
       "    </tr>\n",
       "    <tr>\n",
       "      <th>10251</th>\n",
       "      <td>9</td>\n",
       "      <td>silverstone</td>\n",
       "      <td>1:34.557</td>\n",
       "      <td>\\N</td>\n",
       "      <td>\\N</td>\n",
       "    </tr>\n",
       "    <tr>\n",
       "      <th>10252</th>\n",
       "      <td>9</td>\n",
       "      <td>silverstone</td>\n",
       "      <td>1:38.348</td>\n",
       "      <td>\\N</td>\n",
       "      <td>\\N</td>\n",
       "    </tr>\n",
       "    <tr>\n",
       "      <th>10253</th>\n",
       "      <td>9</td>\n",
       "      <td>silverstone</td>\n",
       "      <td>1:39.804</td>\n",
       "      <td>\\N</td>\n",
       "      <td>\\N</td>\n",
       "    </tr>\n",
       "  </tbody>\n",
       "</table>\n",
       "<p>10254 rows × 5 columns</p>\n",
       "</div>"
      ]
     },
     "execution_count": 8,
     "metadata": {},
     "output_type": "execute_result"
    }
   ],
   "execution_count": 8
  },
  {
   "metadata": {},
   "cell_type": "markdown",
   "source": [
    "## Temps maximum (en python pur)\n",
    "\n",
    "Dans ce projet de traitement de données, il faut répondre à certaines questions en python sans pandas. On transforme donc le dataframe pandas en simples listes python."
   ],
   "id": "6932fe7403fd78e4"
  },
  {
   "metadata": {
    "ExecuteTime": {
     "end_time": "2025-03-27T10:33:42.180855Z",
     "start_time": "2025-03-27T10:33:42.167900Z"
    }
   },
   "cell_type": "code",
   "source": [
    "# On remplace les \"\\N\" (non-qualifiés) par None pour pouvoir les enlever facilement\n",
    "interesting_datas['q1'] = interesting_datas['q1'].replace(r'\\N', None)\n",
    "interesting_datas['q2'] = interesting_datas['q2'].replace(r'\\N', None)\n",
    "interesting_datas['q3'] = interesting_datas['q3'].replace(r'\\N', None)\n",
    "\n",
    "\n",
    "# On transforme en listes les colonnes de temps en enlevant les non-qualifiés.\n",
    "q1_column = interesting_datas['q1'].dropna().tolist()\n",
    "q2_column = interesting_datas['q2'].dropna().tolist()\n",
    "q3_column = interesting_datas['q3'].dropna().tolist()\n",
    "\n",
    "# On aurait pu faire une boucle pour trouver le max, mais python a une fonction max :)\n",
    "max_q1 = max(q1_column) if q1_column else None\n",
    "max_q2 = max(q2_column) if q2_column else None\n",
    "max_q3 = max(q3_column) if q3_column else None\n",
    "\n",
    "# Output the results\n",
    "print(f\"Max Q1: {max_q1}, Max Q2: {max_q2}, Max Q3: {max_q3}\")"
   ],
   "id": "32cd22dec8062e32",
   "outputs": [
    {
     "name": "stdout",
     "output_type": "stream",
     "text": [
      "Max Q1: 2:33.885, Max Q2: 2:12.470, Max Q3: 2:09.776\n"
     ]
    }
   ],
   "execution_count": 11
  },
  {
   "metadata": {},
   "cell_type": "markdown",
   "source": [
    "## Group by circuitId\n",
    "Afin d'obtenir, par circuit, le temps maximum pour être qualifié (la limite avant d'être disqualifié).\n",
    "\n",
    "Encore une fois, on utilise que du python sans pandas (une fois que les colonnes ont été transformés en listes compréhensibles pour python)."
   ],
   "id": "e3963616f280a3db"
  },
  {
   "metadata": {
    "ExecuteTime": {
     "end_time": "2025-03-27T10:40:33.356937Z",
     "start_time": "2025-03-27T10:40:33.327023Z"
    }
   },
   "cell_type": "code",
   "source": [
    "# Replace \"\\N\" with None and convert columns to lists after dropping NaN\n",
    "interesting_datas['q1'] = interesting_datas['q1'].replace(r'\\N', None)\n",
    "interesting_datas['q2'] = interesting_datas['q2'].replace(r'\\N', None)\n",
    "interesting_datas['q3'] = interesting_datas['q3'].replace(r'\\N', None)\n",
    "\n",
    "# Group by circuitId\n",
    "interesting_datas_by_circuit = interesting_datas.groupby(\"circuitId\")\n",
    "\n",
    "# Create a dictionary of times per circuitId and qualifier\n",
    "times_by_circuit_and_qual = {}\n",
    "for circuit_id, group in interesting_datas_by_circuit:\n",
    "    for qual in ['q1', 'q2', 'q3']:\n",
    "        times = group[qual].dropna().tolist()\n",
    "        times_by_circuit_and_qual[(circuit_id, qual)] = times\n",
    "\n",
    "# Compute the maximum time for each (circuitId, qualifier)\n",
    "max_times_by_circuit_and_qual = {key: max(times) for key, times in times_by_circuit_and_qual.items() if times}\n",
    "\n",
    "print(max_times_by_circuit_and_qual)\n"
   ],
   "id": "4868b143f34d615f",
   "outputs": [
    {
     "name": "stdout",
     "output_type": "stream",
     "text": [
      "{(1, 'q1'): '1:57.931', (1, 'q2'): '1:47.293', (1, 'q3'): '1:48.147', (2, 'q1'): '2:04.407', (2, 'q2'): '2:02.885', (2, 'q3'): '2:04.053', (3, 'q1'): '2:04.904', (3, 'q2'): '1:56.619', (3, 'q3'): '1:56.309', (4, 'q1'): '1:32.038', (4, 'q2'): '1:28.280', (4, 'q3'): '1:27.402', (5, 'q1'): '2:21.611', (5, 'q2'): '1:58.556', (5, 'q3'): '1:57.226', (6, 'q1'): '1:31.542', (6, 'q2'): '1:26.632', (6, 'q3'): '1:18.327', (7, 'q1'): '1:36.575', (7, 'q2'): '1:33.127', (7, 'q3'): '1:31.349', (8, 'q1'): '1:24.865', (8, 'q2'): '1:17.105', (8, 'q3'): '1:18.663', (9, 'q1'): '1:54.143', (9, 'q2'): '1:57.895', (9, 'q3'): '2:03.095', (10, 'q1'): '1:54.625', (10, 'q2'): '1:41.551', (10, 'q3'): '1:45.811', (11, 'q1'): '1:50.189', (11, 'q2'): '1:37.075', (11, 'q3'): '1:40.593', (12, 'q1'): '1:44.363', (12, 'q2'): '1:40.358', (12, 'q3'): '1:40.750', (13, 'q1'): '2:33.885', (13, 'q2'): '2:12.470', (13, 'q3'): '2:09.776', (14, 'q1'): '1:43.355', (14, 'q2'): '1:39.265', (14, 'q3'): '1:39.906', (15, 'q1'): '1:57.532', (15, 'q2'): '1:55.518', (15, 'q3'): '1:51.983', (16, 'q1'): '1:29.668', (16, 'q2'): '1:26.948', (16, 'q3'): '1:27.225', (17, 'q1'): '2:00.865', (17, 'q2'): '1:58.264', (17, 'q3'): '2:05.673', (18, 'q1'): '1:40.703', (18, 'q2'): '1:28.586', (18, 'q3'): '1:29.582', (19, 'q1'): '1:16.036', (19, 'q2'): '1:13.259', (19, 'q3'): '1:15.280', (20, 'q1'): '1:46.505', (20, 'q2'): '1:42.859', (20, 'q3'): '1:34.803', (21, 'q1'): '1:46.299', (21, 'q2'): '1:30.564', (21, 'q3'): '1:31.062', (22, 'q1'): '2:02.309', (22, 'q2'): '1:35.681', (22, 'q3'): '1:37.229', (24, 'q1'): '1:47.434', (24, 'q2'): '1:43.614', (24, 'q3'): '1:42.866', (25, 'q1'): '2:07.298', (26, 'q1'): '1:27.976', (27, 'q1'): '1:32.769', (28, 'q1'): '1:21.405', (29, 'q1'): '1:22.529', (32, 'q1'): '1:24.386', (32, 'q2'): '1:22.494', (32, 'q3'): '1:36.830', (34, 'q1'): '1:33.794', (34, 'q2'): '1:33.307', (34, 'q3'): '1:33.420', (35, 'q1'): '1:43.758', (35, 'q2'): '1:39.443', (35, 'q3'): '1:38.822', (39, 'q1'): '1:23.420', (39, 'q2'): '1:20.250', (39, 'q3'): '1:16.748', (68, 'q1'): '1:34.046', (68, 'q2'): '1:27.562', (68, 'q3'): '1:26.713', (69, 'q1'): '2:07.304', (69, 'q2'): '2:01.604', (69, 'q3'): '1:38.810', (70, 'q1'): '1:34.910', (70, 'q2'): '2:06.688', (70, 'q3'): '1:21.651', (71, 'q1'): '1:53.764', (71, 'q2'): '1:46.751', (71, 'q3'): '1:45.865', (73, 'q1'): '1:57.354', (73, 'q2'): '1:46.048', (73, 'q3'): '2:01.954', (75, 'q1'): '1:20.912', (75, 'q2'): '1:19.812', (75, 'q3'): '1:19.659', (76, 'q1'): '1:17.348', (76, 'q2'): '1:17.254', (76, 'q3'): '1:17.870', (77, 'q1'): '2:08.510', (77, 'q2'): '1:53.652', (77, 'q3'): '1:29.588', (78, 'q1'): '1:27.432', (78, 'q2'): '1:25.783', (78, 'q3'): '1:25.058', (79, 'q1'): '1:31.325', (79, 'q2'): '1:30.423', (79, 'q3'): '1:30.676', (80, 'q1'): '1:36.447', (80, 'q2'): '1:34.308', (80, 'q3'): '1:33.555'}\n"
     ]
    }
   ],
   "execution_count": 16
  },
  {
   "metadata": {},
   "cell_type": "code",
   "outputs": [],
   "execution_count": null,
   "source": "",
   "id": "78e68d55acd6d2fd"
  }
 ],
 "metadata": {
  "kernelspec": {
   "display_name": "Python 3",
   "language": "python",
   "name": "python3"
  },
  "language_info": {
   "codemirror_mode": {
    "name": "ipython",
    "version": 2
   },
   "file_extension": ".py",
   "mimetype": "text/x-python",
   "name": "python",
   "nbconvert_exporter": "python",
   "pygments_lexer": "ipython2",
   "version": "2.7.6"
  }
 },
 "nbformat": 4,
 "nbformat_minor": 5
}
