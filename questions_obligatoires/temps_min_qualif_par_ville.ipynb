{
 "cells": [
  {
   "metadata": {},
   "cell_type": "markdown",
   "source": "# Pour chaque ville / circuit, quel est le temps maximum pour être qualifié ?",
   "id": "ef9ef6c67af7fdae"
  },
  {
   "metadata": {
    "ExecuteTime": {
     "end_time": "2025-04-01T08:46:08.256152Z",
     "start_time": "2025-04-01T08:46:08.215306Z"
    }
   },
   "cell_type": "code",
   "source": [
    "import pandas as pd\n",
    "\n",
    "qualif = pd.read_csv(\"../data/qualifying.csv\")\n",
    "circuits = pd.read_csv(\"../data/circuits.csv\")\n",
    "races = pd.read_csv(\"../data/races.csv\")\n",
    "\n",
    "# On construit la table avec que les données importantes\n",
    "races_plus_circuits = pd.merge(races, circuits, on=\"circuitId\")\n",
    "\n",
    "interesting_datas = pd.merge(qualif, races_plus_circuits, on=\"raceId\")[[\"circuitId\",\"circuitRef\",\"q1\",\"q2\",\"q3\"]]"
   ],
   "id": "547a5b9f44a9fc18",
   "outputs": [],
   "execution_count": 5
  },
  {
   "metadata": {},
   "cell_type": "markdown",
   "source": [
    "## Temps maximum (en python pur)\n",
    "\n",
    "Dans ce projet de traitement de données, il faut répondre à certaines questions en python sans pandas. On transforme donc le dataframe pandas en simples listes python."
   ],
   "id": "6bc83e9961940c5e"
  },
  {
   "metadata": {
    "ExecuteTime": {
     "end_time": "2025-04-01T09:06:38.561454Z",
     "start_time": "2025-04-01T09:06:38.548676Z"
    }
   },
   "cell_type": "code",
   "source": [
    "# On remplace les \"\\N\" (non-qualifiés) par None pour pouvoir les enlever facilement\n",
    "interesting_datas['q1'] = interesting_datas['q1'].replace(r'\\N', None)\n",
    "interesting_datas['q2'] = interesting_datas['q2'].replace(r'\\N', None)\n",
    "interesting_datas['q3'] = interesting_datas['q3'].replace(r'\\N', None)\n",
    "\n",
    "\n",
    "# On transforme en listes les colonnes de temps en enlevant les non-qualifiés.\n",
    "q1_column = interesting_datas['q1'].dropna().tolist()\n",
    "q2_column = interesting_datas['q2'].dropna().tolist()\n",
    "q3_column = interesting_datas['q3'].dropna().tolist()\n",
    "\n",
    "# On aurait pu faire une boucle pour trouver le max, mais python a une fonction max :)\n",
    "max_q1 = max(q1_column) if q1_column else None\n",
    "max_q2 = max(q2_column) if q2_column else None\n",
    "max_q3 = max(q3_column) if q3_column else None\n",
    "\n",
    "# Output the results\n",
    "print(f\"Max Q1: {max_q1}, Max Q2: {max_q2}, Max Q3: {max_q3}\")"
   ],
   "id": "27db2caaab12c3f3",
   "outputs": [
    {
     "name": "stdout",
     "output_type": "stream",
     "text": [
      "Max Q1: 2:33.885, Max Q2: 2:12.470, Max Q3: 2:09.776\n"
     ]
    }
   ],
   "execution_count": 12
  },
  {
   "metadata": {},
   "cell_type": "markdown",
   "source": [
    "## Group by circuitId\n",
    "Afin d'obtenir, par circuit, le temps maximum pour être qualifié (la limite avant d'être disqualifié).\n",
    "\n",
    "Encore une fois, on utilise que du python sans pandas (une fois que les colonnes ont été transformés en listes compréhensibles pour python)."
   ],
   "id": "ea057c5fc9e66880"
  },
  {
   "metadata": {
    "ExecuteTime": {
     "end_time": "2025-04-01T08:47:20.094942Z",
     "start_time": "2025-04-01T08:47:20.018470Z"
    }
   },
   "cell_type": "code",
   "source": [
    "# Replace \"\\N\" with None and convert columns to lists after dropping NaN\n",
    "interesting_datas['q1'] = interesting_datas['q1'].replace(r'\\N', None)\n",
    "interesting_datas['q2'] = interesting_datas['q2'].replace(r'\\N', None)\n",
    "interesting_datas['q3'] = interesting_datas['q3'].replace(r'\\N', None)\n",
    "\n",
    "# Group by circuitId\n",
    "interesting_datas_by_circuit = interesting_datas.groupby(\"circuitRef\")\n",
    "\n",
    "# Create a dictionary of times per circuitId and qualifier\n",
    "times_by_circuit_and_qual = {}\n",
    "for circuitRef, group in interesting_datas_by_circuit:\n",
    "    for qual in ['q1', 'q2', 'q3']:\n",
    "        times = group[qual].dropna().tolist()\n",
    "        times_by_circuit_and_qual[(circuitRef, qual)] = times\n",
    "\n",
    "# Compute the maximum time for each (circuitId, qualifier)\n",
    "max_times_by_circuit_and_qual = {key: max(times) for key, times in times_by_circuit_and_qual.items() if times}\n",
    "\n",
    "print(max_times_by_circuit_and_qual)\n"
   ],
   "id": "55f187b98596da23",
   "outputs": [
    {
     "name": "stdout",
     "output_type": "stream",
     "text": [
      "{('adelaide', 'q1'): '1:22.529', ('albert_park', 'q1'): '1:57.931', ('albert_park', 'q2'): '1:47.293', ('albert_park', 'q3'): '1:48.147', ('americas', 'q1'): '2:07.304', ('americas', 'q2'): '2:01.604', ('americas', 'q3'): '1:38.810', ('bahrain', 'q1'): '2:04.904', ('bahrain', 'q2'): '1:56.619', ('bahrain', 'q3'): '1:56.309', ('baku', 'q1'): '1:57.354', ('baku', 'q2'): '1:46.048', ('baku', 'q3'): '2:01.954', ('buddh', 'q1'): '1:34.046', ('buddh', 'q2'): '1:27.562', ('buddh', 'q3'): '1:26.713', ('catalunya', 'q1'): '1:32.038', ('catalunya', 'q2'): '1:28.280', ('catalunya', 'q3'): '1:27.402', ('estoril', 'q1'): '1:32.769', ('fuji', 'q1'): '1:29.668', ('fuji', 'q2'): '1:26.948', ('fuji', 'q3'): '1:27.225', ('galvez', 'q1'): '2:07.298', ('hockenheimring', 'q1'): '1:54.625', ('hockenheimring', 'q2'): '1:41.551', ('hockenheimring', 'q3'): '1:45.811', ('hungaroring', 'q1'): '1:50.189', ('hungaroring', 'q2'): '1:37.075', ('hungaroring', 'q3'): '1:40.593', ('imola', 'q1'): '1:46.299', ('imola', 'q2'): '1:30.564', ('imola', 'q3'): '1:31.062', ('indianapolis', 'q1'): '1:16.036', ('indianapolis', 'q2'): '1:13.259', ('indianapolis', 'q3'): '1:15.280', ('interlagos', 'q1'): '1:40.703', ('interlagos', 'q2'): '1:28.586', ('interlagos', 'q3'): '1:29.582', ('istanbul', 'q1'): '2:21.611', ('istanbul', 'q2'): '1:58.556', ('istanbul', 'q3'): '1:57.226', ('jeddah', 'q1'): '2:08.510', ('jeddah', 'q2'): '1:53.652', ('jeddah', 'q3'): '1:29.588', ('jerez', 'q1'): '1:27.976', ('losail', 'q1'): '1:27.432', ('losail', 'q2'): '1:25.783', ('losail', 'q3'): '1:25.058', ('magny_cours', 'q1'): '1:24.865', ('magny_cours', 'q2'): '1:17.105', ('magny_cours', 'q3'): '1:18.663', ('marina_bay', 'q1'): '1:57.532', ('marina_bay', 'q2'): '1:55.518', ('marina_bay', 'q3'): '1:51.983', ('miami', 'q1'): '1:31.325', ('miami', 'q2'): '1:30.423', ('miami', 'q3'): '1:30.676', ('monaco', 'q1'): '1:31.542', ('monaco', 'q2'): '1:26.632', ('monaco', 'q3'): '1:18.327', ('monza', 'q1'): '1:43.355', ('monza', 'q2'): '1:39.265', ('monza', 'q3'): '1:39.906', ('mugello', 'q1'): '1:17.348', ('mugello', 'q2'): '1:17.254', ('mugello', 'q3'): '1:17.870', ('nurburgring', 'q1'): '1:46.505', ('nurburgring', 'q2'): '1:42.859', ('nurburgring', 'q3'): '1:34.803', ('okayama', 'q1'): '1:21.405', ('portimao', 'q1'): '1:20.912', ('portimao', 'q2'): '1:19.812', ('portimao', 'q3'): '1:19.659', ('red_bull_ring', 'q1'): '1:34.910', ('red_bull_ring', 'q2'): '2:06.688', ('red_bull_ring', 'q3'): '1:21.651', ('ricard', 'q1'): '1:33.794', ('ricard', 'q2'): '1:33.307', ('ricard', 'q3'): '1:33.420', ('rodriguez', 'q1'): '1:24.386', ('rodriguez', 'q2'): '1:22.494', ('rodriguez', 'q3'): '1:36.830', ('sepang', 'q1'): '2:04.407', ('sepang', 'q2'): '2:02.885', ('sepang', 'q3'): '2:04.053', ('shanghai', 'q1'): '2:00.865', ('shanghai', 'q2'): '1:58.264', ('shanghai', 'q3'): '2:05.673', ('silverstone', 'q1'): '1:54.143', ('silverstone', 'q2'): '1:57.895', ('silverstone', 'q3'): '2:03.095', ('sochi', 'q1'): '1:53.764', ('sochi', 'q2'): '1:46.751', ('sochi', 'q3'): '1:45.865', ('spa', 'q1'): '2:33.885', ('spa', 'q2'): '2:12.470', ('spa', 'q3'): '2:09.776', ('suzuka', 'q1'): '2:02.309', ('suzuka', 'q2'): '1:35.681', ('suzuka', 'q3'): '1:37.229', ('valencia', 'q1'): '1:44.363', ('valencia', 'q2'): '1:40.358', ('valencia', 'q3'): '1:40.750', ('vegas', 'q1'): '1:36.447', ('vegas', 'q2'): '1:34.308', ('vegas', 'q3'): '1:33.555', ('villeneuve', 'q1'): '1:36.575', ('villeneuve', 'q2'): '1:33.127', ('villeneuve', 'q3'): '1:31.349', ('yas_marina', 'q1'): '1:47.434', ('yas_marina', 'q2'): '1:43.614', ('yas_marina', 'q3'): '1:42.866', ('yeongam', 'q1'): '1:43.758', ('yeongam', 'q2'): '1:39.443', ('yeongam', 'q3'): '1:38.822', ('zandvoort', 'q1'): '1:23.420', ('zandvoort', 'q2'): '1:20.250', ('zandvoort', 'q3'): '1:16.748'}\n"
     ]
    }
   ],
   "execution_count": 8
  },
  {
   "metadata": {},
   "cell_type": "code",
   "outputs": [],
   "execution_count": null,
   "source": "",
   "id": "58089afedd468a6d"
  }
 ],
 "metadata": {
  "kernelspec": {
   "display_name": "Python 3",
   "language": "python",
   "name": "python3"
  },
  "language_info": {
   "codemirror_mode": {
    "name": "ipython",
    "version": 2
   },
   "file_extension": ".py",
   "mimetype": "text/x-python",
   "name": "python",
   "nbconvert_exporter": "python",
   "pygments_lexer": "ipython2",
   "version": "2.7.6"
  }
 },
 "nbformat": 4,
 "nbformat_minor": 5
}
