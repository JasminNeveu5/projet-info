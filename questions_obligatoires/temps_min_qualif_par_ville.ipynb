{
 "cells": [
  {
   "metadata": {},
   "cell_type": "markdown",
   "source": "# Pour chaque ville / circuit, quel est le temps maximum pour être qualifié ?",
   "id": "ef9ef6c67af7fdae"
  },
  {
   "metadata": {},
   "cell_type": "code",
   "outputs": [],
   "execution_count": null,
   "source": [
    "import pandas as pd\n",
    "\n",
    "qualif = pd.read_csv(\"../data/qualifying.csv\")\n",
    "circuits = pd.read_csv(\"../data/circuits.csv\")\n",
    "races = pd.read_csv(\"../data/races.csv\")\n",
    "\n",
    "# On construit la table avec que les données importantes\n",
    "races_plus_circuits = pd.merge(races, circuits, on=\"circuitId\")\n",
    "\n",
    "interesting_datas = pd.merge(qualif, races_plus_circuits, on=\"raceId\")[[\"circuitId\",\"circuitRef\",\"q1\",\"q2\",\"q3\"]]"
   ],
   "id": "547a5b9f44a9fc18"
  },
  {
   "metadata": {},
   "cell_type": "markdown",
   "source": [
    "## Temps maximum (en python pur)\n",
    "\n",
    "Dans ce projet de traitement de données, il faut répondre à certaines questions en python sans pandas. On transforme donc le dataframe pandas en simples listes python."
   ],
   "id": "6bc83e9961940c5e"
  },
  {
   "metadata": {},
   "cell_type": "code",
   "outputs": [],
   "execution_count": null,
   "source": [
    "# On remplace les \"\\N\" (non-qualifiés) par None pour pouvoir les enlever facilement\n",
    "interesting_datas['q1'] = interesting_datas['q1'].replace(r'\\N', None)\n",
    "interesting_datas['q2'] = interesting_datas['q2'].replace(r'\\N', None)\n",
    "interesting_datas['q3'] = interesting_datas['q3'].replace(r'\\N', None)\n",
    "\n",
    "\n",
    "# On transforme en listes les colonnes de temps en enlevant les non-qualifiés.\n",
    "q1_column = interesting_datas['q1'].dropna().tolist()\n",
    "q2_column = interesting_datas['q2'].dropna().tolist()\n",
    "q3_column = interesting_datas['q3'].dropna().tolist()\n",
    "\n",
    "# On aurait pu faire une boucle pour trouver le max, mais python a une fonction max :)\n",
    "max_q1 = max(q1_column) if q1_column else None\n",
    "max_q2 = max(q2_column) if q2_column else None\n",
    "max_q3 = max(q3_column) if q3_column else None\n",
    "\n",
    "# Output the results\n",
    "print(f\"Max Q1: {max_q1}, Max Q2: {max_q2}, Max Q3: {max_q3}\")"
   ],
   "id": "27db2caaab12c3f3"
  },
  {
   "metadata": {},
   "cell_type": "markdown",
   "source": [
    "## Group by circuitId\n",
    "Afin d'obtenir, par circuit, le temps maximum pour être qualifié (la limite avant d'être disqualifié).\n",
    "\n",
    "Encore une fois, on utilise que du python sans pandas (une fois que les colonnes ont été transformés en listes compréhensibles pour python)."
   ],
   "id": "ea057c5fc9e66880"
  },
  {
   "metadata": {
    "ExecuteTime": {
     "end_time": "2025-03-28T10:18:58.538108Z",
     "start_time": "2025-03-28T10:18:58.523288Z"
    }
   },
   "cell_type": "code",
   "source": [
    "# Replace \"\\N\" with None and convert columns to lists after dropping NaN\n",
    "interesting_datas['q1'] = interesting_datas['q1'].replace(r'\\N', None)\n",
    "interesting_datas['q2'] = interesting_datas['q2'].replace(r'\\N', None)\n",
    "interesting_datas['q3'] = interesting_datas['q3'].replace(r'\\N', None)\n",
    "\n",
    "# Group by circuitId\n",
    "interesting_datas_by_circuit = interesting_datas.groupby(\"circuitRef\")\n",
    "\n",
    "# Create a dictionary of times per circuitId and qualifier\n",
    "times_by_circuit_and_qual = {}\n",
    "for circuitRef, group in interesting_datas_by_circuit:\n",
    "    for qual in ['q1', 'q2', 'q3']:\n",
    "        times = group[qual].dropna().tolist()\n",
    "        times_by_circuit_and_qual[(circuitRef, qual)] = times\n",
    "\n",
    "# Compute the maximum time for each (circuitId, qualifier)\n",
    "max_times_by_circuit_and_qual = {key: max(times) for key, times in times_by_circuit_and_qual.items() if times}\n",
    "\n",
    "print(max_times_by_circuit_and_qual)\n"
   ],
   "id": "55f187b98596da23",
   "outputs": [
    {
     "name": "stdout",
     "output_type": "stream",
     "text": [
      "{('albert_park', 'q1'): '1:29.059', ('albert_park', 'q2'): '1:26.413', ('albert_park', 'q3'): '1:29.593', ('bahrain', 'q1'): '1:35.725', ('bahrain', 'q2'): '1:32.943', ('bahrain', 'q3'): '1:35.115', ('catalunya', 'q1'): '1:23.496', ('catalunya', 'q2'): '1:21.724', ('catalunya', 'q3'): '1:22.699', ('fuji', 'q1'): '1:19.910', ('fuji', 'q2'): '1:18.672', ('fuji', 'q3'): '1:20.167', ('hockenheimring', 'q1'): '1:16.963', ('hockenheimring', 'q2'): '1:15.858', ('hockenheimring', 'q3'): '1:17.503', ('hungaroring', 'q1'): '1:22.113', ('hungaroring', 'q2'): '1:20.963', ('hungaroring', 'q3'): '1:22.371', ('interlagos', 'q1'): '1:13.508', ('interlagos', 'q2'): '1:13.139', ('interlagos', 'q3'): '1:14.230', ('istanbul', 'q1'): '1:28.325', ('istanbul', 'q2'): '1:27.806', ('istanbul', 'q3'): '1:29.959', ('magny_cours', 'q1'): '1:17.053', ('magny_cours', 'q2'): '1:16.235', ('magny_cours', 'q3'): '1:17.596', ('marina_bay', 'q1'): '1:47.940', ('marina_bay', 'q2'): '1:45.298', ('marina_bay', 'q3'): '1:47.547', ('monaco', 'q1'): '1:17.823', ('monaco', 'q2'): '1:16.537', ('monaco', 'q3'): '1:17.343', ('monza', 'q1'): '1:37.417', ('monza', 'q2'): '1:39.265', ('monza', 'q3'): '1:39.906', ('sepang', 'q1'): '1:37.481', ('sepang', 'q2'): '1:35.670', ('sepang', 'q3'): '1:39.656', ('shanghai', 'q1'): '1:37.739', ('shanghai', 'q2'): '1:36.210', ('shanghai', 'q3'): '1:38.885', ('silverstone', 'q1'): '1:21.885', ('silverstone', 'q2'): '1:21.112', ('silverstone', 'q3'): '1:23.305', ('spa', 'q1'): '1:48.447', ('spa', 'q2'): '1:47.429', ('spa', 'q3'): '1:50.319', ('valencia', 'q1'): '1:39.943', ('valencia', 'q2'): '1:38.744', ('valencia', 'q3'): '1:40.750', ('villeneuve', 'q1'): '1:23.565', ('villeneuve', 'q2'): '1:18.393', ('villeneuve', 'q3'): '1:20.848'}\n"
     ]
    }
   ],
   "execution_count": 73
  },
  {
   "metadata": {},
   "cell_type": "code",
   "outputs": [],
   "execution_count": null,
   "source": "",
   "id": "58089afedd468a6d"
  }
 ],
 "metadata": {
  "kernelspec": {
   "display_name": "Python 3",
   "language": "python",
   "name": "python3"
  },
  "language_info": {
   "codemirror_mode": {
    "name": "ipython",
    "version": 2
   },
   "file_extension": ".py",
   "mimetype": "text/x-python",
   "name": "python",
   "nbconvert_exporter": "python",
   "pygments_lexer": "ipython2",
   "version": "2.7.6"
  }
 },
 "nbformat": 4,
 "nbformat_minor": 5
}
