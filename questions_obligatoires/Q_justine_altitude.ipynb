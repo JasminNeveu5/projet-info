{
 "cells": [
  {
   "cell_type": "markdown",
   "metadata": {},
   "source": [
    "# Sur quels paramètres l'altitude influe-t-elle le plus ?"
   ]
  },
  {
   "cell_type": "markdown",
   "metadata": {},
   "source": [
    "Du fait de la haute altitude de Mexico City, les voitures ont plus de problèmes. On peut citer par exemple les problèmes de moteur, de turbo ou de refroidissement (https://www.motorsinside.com/f1/actualite/32064-les-consequences-haute-altitude-mexico-pilotes-f1-2286m-daltitude.html)."
   ]
  },
  {
   "cell_type": "code",
   "execution_count": 20,
   "metadata": {},
   "outputs": [],
   "source": [
    "class Course:\n",
    "    def __init__(self, resultId : int, location : str, status : str):\n",
    "        self.resultId = resultId\n",
    "        self.location = location\n",
    "        self.status = status"
   ]
  },
  {
   "cell_type": "code",
   "execution_count": 23,
   "metadata": {},
   "outputs": [
    {
     "ename": "ImportError",
     "evalue": "cannot import name 'merge' from 'methodes_pures' (c:\\DEVOIRS\\ENSAI1A\\projet-info\\questions_obligatoires\\methodes_pures.py)",
     "output_type": "error",
     "traceback": [
      "\u001b[1;31m---------------------------------------------------------------------------\u001b[0m",
      "\u001b[1;31mImportError\u001b[0m                               Traceback (most recent call last)",
      "\u001b[1;32mC:\\Users\\UTILIS~1\\AppData\\Local\\Temp/ipykernel_19168/2826443090.py\u001b[0m in \u001b[0;36m<module>\u001b[1;34m\u001b[0m\n\u001b[1;32m----> 1\u001b[1;33m \u001b[1;32mfrom\u001b[0m \u001b[0mmethodes_pures\u001b[0m \u001b[1;32mimport\u001b[0m \u001b[0mread_csv\u001b[0m\u001b[1;33m,\u001b[0m \u001b[0mmerge\u001b[0m\u001b[1;33m\u001b[0m\u001b[1;33m\u001b[0m\u001b[0m\n\u001b[0m\u001b[0;32m      2\u001b[0m \u001b[1;33m\u001b[0m\u001b[0m\n\u001b[0;32m      3\u001b[0m \u001b[0mliste_courses\u001b[0m \u001b[1;33m=\u001b[0m \u001b[1;33m[\u001b[0m\u001b[1;33m]\u001b[0m\u001b[1;33m\u001b[0m\u001b[1;33m\u001b[0m\u001b[0m\n\u001b[0;32m      4\u001b[0m \u001b[1;33m\u001b[0m\u001b[0m\n\u001b[0;32m      5\u001b[0m \u001b[0mresults\u001b[0m \u001b[1;33m=\u001b[0m \u001b[0mread_csv\u001b[0m\u001b[1;33m(\u001b[0m\u001b[1;34m'../data/results.csv'\u001b[0m\u001b[1;33m)\u001b[0m\u001b[1;33m\u001b[0m\u001b[1;33m\u001b[0m\u001b[0m\n",
      "\u001b[1;31mImportError\u001b[0m: cannot import name 'merge' from 'methodes_pures' (c:\\DEVOIRS\\ENSAI1A\\projet-info\\questions_obligatoires\\methodes_pures.py)"
     ]
    }
   ],
   "source": [
    "from methodes_pures import read_csv, merge\n",
    "\n",
    "liste_courses = []\n",
    "\n",
    "results = read_csv('../data/results.csv')\n",
    "races = read_csv('../data/races.csv')\n",
    "circuits = read_csv('../data/circuits.csv')\n",
    "status = read_csv('../data/status.csv')\n",
    "\n",
    "# jointure = merge(status, merge(circuits, merge(results, races, 'raceId'), 'circuitId'), 'statusId')"
   ]
  },
  {
   "cell_type": "code",
   "execution_count": null,
   "metadata": {},
   "outputs": [
    {
     "ename": "NameError",
     "evalue": "name 'circuits' is not defined",
     "output_type": "error",
     "traceback": [
      "\u001b[1;31m---------------------------------------------------------------------------\u001b[0m",
      "\u001b[1;31mNameError\u001b[0m                                 Traceback (most recent call last)",
      "\u001b[1;32mC:\\Users\\UTILIS~1\\AppData\\Local\\Temp/ipykernel_19168/2160842146.py\u001b[0m in \u001b[0;36m<module>\u001b[1;34m\u001b[0m\n\u001b[1;32m----> 1\u001b[1;33m \u001b[0mnb_location\u001b[0m \u001b[1;33m=\u001b[0m \u001b[0mlen\u001b[0m\u001b[1;33m(\u001b[0m\u001b[0mcircuits\u001b[0m\u001b[1;33m)\u001b[0m\u001b[1;33m\u001b[0m\u001b[1;33m\u001b[0m\u001b[0m\n\u001b[0m\u001b[0;32m      2\u001b[0m \u001b[1;33m\u001b[0m\u001b[0m\n\u001b[0;32m      3\u001b[0m \u001b[1;32mdef\u001b[0m \u001b[0mnombre_status_mexico\u001b[0m\u001b[1;33m(\u001b[0m\u001b[0mstatus\u001b[0m\u001b[1;33m)\u001b[0m\u001b[1;33m:\u001b[0m\u001b[1;33m\u001b[0m\u001b[1;33m\u001b[0m\u001b[0m\n\u001b[0;32m      4\u001b[0m     \u001b[0mnb\u001b[0m \u001b[1;33m=\u001b[0m \u001b[1;36m0\u001b[0m\u001b[1;33m\u001b[0m\u001b[1;33m\u001b[0m\u001b[0m\n\u001b[0;32m      5\u001b[0m     \u001b[1;32mfor\u001b[0m \u001b[0mcourse\u001b[0m \u001b[1;32min\u001b[0m \u001b[0mliste_courses\u001b[0m\u001b[1;33m:\u001b[0m\u001b[1;33m\u001b[0m\u001b[1;33m\u001b[0m\u001b[0m\n",
      "\u001b[1;31mNameError\u001b[0m: name 'circuits' is not defined"
     ]
    }
   ],
   "source": [
    "nb_location = len(circuits)\n",
    "\n",
    "def nombre_status_mexico(status):\n",
    "    nb = 0\n",
    "    for course in liste_courses:\n",
    "        if course.location == 'Mexico City' and course.status == status:\n",
    "            nb += 1\n",
    "    return nb\n",
    "\n",
    "\n",
    "def moyenne_satus_global(status):\n",
    "    somme = 0\n",
    "    for course in liste_courses:\n",
    "        if course.status == status:\n",
    "            somme += 1\n",
    "    return somme/nb_location\n"
   ]
  },
  {
   "cell_type": "markdown",
   "metadata": {},
   "source": [
    "## Code"
   ]
  },
  {
   "cell_type": "code",
   "execution_count": null,
   "metadata": {},
   "outputs": [
    {
     "data": {
      "text/html": [
       "<div>\n",
       "<style scoped>\n",
       "    .dataframe tbody tr th:only-of-type {\n",
       "        vertical-align: middle;\n",
       "    }\n",
       "\n",
       "    .dataframe tbody tr th {\n",
       "        vertical-align: top;\n",
       "    }\n",
       "\n",
       "    .dataframe thead th {\n",
       "        text-align: right;\n",
       "    }\n",
       "</style>\n",
       "<table border=\"1\" class=\"dataframe\">\n",
       "  <thead>\n",
       "    <tr style=\"text-align: right;\">\n",
       "      <th></th>\n",
       "      <th>resultId</th>\n",
       "      <th>location</th>\n",
       "      <th>statusId</th>\n",
       "      <th>status</th>\n",
       "    </tr>\n",
       "  </thead>\n",
       "  <tbody>\n",
       "    <tr>\n",
       "      <th>0</th>\n",
       "      <td>1</td>\n",
       "      <td>Melbourne</td>\n",
       "      <td>1</td>\n",
       "      <td>Finished</td>\n",
       "    </tr>\n",
       "    <tr>\n",
       "      <th>1</th>\n",
       "      <td>2</td>\n",
       "      <td>Melbourne</td>\n",
       "      <td>1</td>\n",
       "      <td>Finished</td>\n",
       "    </tr>\n",
       "    <tr>\n",
       "      <th>2</th>\n",
       "      <td>3</td>\n",
       "      <td>Melbourne</td>\n",
       "      <td>1</td>\n",
       "      <td>Finished</td>\n",
       "    </tr>\n",
       "    <tr>\n",
       "      <th>3</th>\n",
       "      <td>4</td>\n",
       "      <td>Melbourne</td>\n",
       "      <td>1</td>\n",
       "      <td>Finished</td>\n",
       "    </tr>\n",
       "    <tr>\n",
       "      <th>4</th>\n",
       "      <td>5</td>\n",
       "      <td>Melbourne</td>\n",
       "      <td>1</td>\n",
       "      <td>Finished</td>\n",
       "    </tr>\n",
       "    <tr>\n",
       "      <th>...</th>\n",
       "      <td>...</td>\n",
       "      <td>...</td>\n",
       "      <td>...</td>\n",
       "      <td>...</td>\n",
       "    </tr>\n",
       "    <tr>\n",
       "      <th>26514</th>\n",
       "      <td>26520</td>\n",
       "      <td>Silverstone</td>\n",
       "      <td>12</td>\n",
       "      <td>+2 Laps</td>\n",
       "    </tr>\n",
       "    <tr>\n",
       "      <th>26515</th>\n",
       "      <td>26521</td>\n",
       "      <td>Silverstone</td>\n",
       "      <td>12</td>\n",
       "      <td>+2 Laps</td>\n",
       "    </tr>\n",
       "    <tr>\n",
       "      <th>26516</th>\n",
       "      <td>26522</td>\n",
       "      <td>Silverstone</td>\n",
       "      <td>12</td>\n",
       "      <td>+2 Laps</td>\n",
       "    </tr>\n",
       "    <tr>\n",
       "      <th>26517</th>\n",
       "      <td>26523</td>\n",
       "      <td>Silverstone</td>\n",
       "      <td>34</td>\n",
       "      <td>Water pressure</td>\n",
       "    </tr>\n",
       "    <tr>\n",
       "      <th>26518</th>\n",
       "      <td>26524</td>\n",
       "      <td>Silverstone</td>\n",
       "      <td>6</td>\n",
       "      <td>Gearbox</td>\n",
       "    </tr>\n",
       "  </tbody>\n",
       "</table>\n",
       "<p>26519 rows × 4 columns</p>\n",
       "</div>"
      ],
      "text/plain": [
       "       resultId     location  statusId          status\n",
       "0             1    Melbourne         1        Finished\n",
       "1             2    Melbourne         1        Finished\n",
       "2             3    Melbourne         1        Finished\n",
       "3             4    Melbourne         1        Finished\n",
       "4             5    Melbourne         1        Finished\n",
       "...         ...          ...       ...             ...\n",
       "26514     26520  Silverstone        12         +2 Laps\n",
       "26515     26521  Silverstone        12         +2 Laps\n",
       "26516     26522  Silverstone        12         +2 Laps\n",
       "26517     26523  Silverstone        34  Water pressure\n",
       "26518     26524  Silverstone         6         Gearbox\n",
       "\n",
       "[26519 rows x 4 columns]"
      ]
     },
     "execution_count": 19,
     "metadata": {},
     "output_type": "execute_result"
    }
   ],
   "source": [
    "import pandas as pd\n",
    "\n",
    "results = pd.read_csv(\n",
    "                'C:/DEVOIRS/ENSAI1A/projet-info/data/results.csv'\n",
    "                )\n",
    "status = pd.read_csv('C:/DEVOIRS/ENSAI1A/projet-info/data/status.csv')\n",
    "races = pd.read_csv('C:/DEVOIRS/ENSAI1A/projet-info/data/races.csv')\n",
    "circuits = pd.read_csv('C:/DEVOIRS/ENSAI1A/projet-info/data/circuits.csv')\n",
    "\n",
    "jointure = pd.merge(results, status, on='statusId', how='left')\n",
    "jointure = pd.merge(jointure, races, on='raceId', how='left')\n",
    "jointure = pd.merge(jointure, circuits, on='circuitId', how='left')\n",
    "\n",
    "jointure = jointure[['resultId', 'location', 'statusId', 'status']]\n",
    "jointure"
   ]
  },
  {
   "cell_type": "markdown",
   "metadata": {},
   "source": [
    "### Problèmes moteur"
   ]
  },
  {
   "cell_type": "code",
   "execution_count": 55,
   "metadata": {},
   "outputs": [
    {
     "name": "stderr",
     "output_type": "stream",
     "text": [
      "C:\\Users\\UTILIS~1\\AppData\\Local\\Temp/ipykernel_17508/254012180.py:5: UserWarning: Boolean Series key will be reindexed to match DataFrame index.\n",
      "  nb_pb_moteur_mexique = len(jointure[jointure.statusId == 5][jointure.location == 'Mexico City'])\n"
     ]
    },
    {
     "data": {
      "text/plain": [
       "50"
      ]
     },
     "execution_count": 55,
     "metadata": {},
     "output_type": "execute_result"
    }
   ],
   "source": [
    "jointure_pb_moteur = jointure[jointure['statusId'] == 5]\n",
    "pb_moteur_par_ville = jointure_pb_moteur.groupby('location').size()\n",
    "moyenne_pb_moteur_par_ville = pb_moteur_par_ville.mean()\n",
    "\n",
    "nb_pb_moteur_mexique = len(jointure[jointure.statusId == 5][jointure.location == 'Mexico City'])\n",
    "nb_pb_moteur_mexique"
   ]
  },
  {
   "cell_type": "markdown",
   "metadata": {},
   "source": [
    "### Problèmes de turbo"
   ]
  },
  {
   "cell_type": "code",
   "execution_count": 82,
   "metadata": {},
   "outputs": [
    {
     "name": "stderr",
     "output_type": "stream",
     "text": [
      "C:\\Users\\UTILIS~1\\AppData\\Local\\Temp/ipykernel_17508/4065419009.py:5: UserWarning: Boolean Series key will be reindexed to match DataFrame index.\n",
      "  nb_pb_turbo_mexique = len(jointure[jointure.statusId == 101][jointure.location == 'Mexico City'])\n"
     ]
    },
    {
     "data": {
      "text/plain": [
       "7"
      ]
     },
     "execution_count": 82,
     "metadata": {},
     "output_type": "execute_result"
    }
   ],
   "source": [
    "jointure_pb_turbo = jointure[jointure['statusId'] == 101]\n",
    "pb_turbo_par_ville = jointure_pb_turbo.groupby('location').size()\n",
    "moyenne_pb_turbo_par_ville = pb_turbo_par_ville.mean()\n",
    "\n",
    "nb_pb_turbo_mexique = len(jointure[jointure.statusId == 101][jointure.location == 'Mexico City'])\n",
    "nb_pb_turbo_mexique"
   ]
  },
  {
   "cell_type": "markdown",
   "metadata": {},
   "source": [
    "### Problèmes de refroidissement"
   ]
  },
  {
   "cell_type": "code",
   "execution_count": 57,
   "metadata": {},
   "outputs": [
    {
     "name": "stderr",
     "output_type": "stream",
     "text": [
      "C:\\Users\\UTILIS~1\\AppData\\Local\\Temp/ipykernel_17508/592535335.py:5: UserWarning: Boolean Series key will be reindexed to match DataFrame index.\n",
      "  nb_pb_refroidissement_mexique = len(jointure[jointure.statusId == 25][jointure.location == 'Mexico City'])\n"
     ]
    },
    {
     "data": {
      "text/plain": [
       "8"
      ]
     },
     "execution_count": 57,
     "metadata": {},
     "output_type": "execute_result"
    }
   ],
   "source": [
    "jointure_pb_refroidissement = jointure[jointure['statusId'] == 25]\n",
    "pb_refroidissement_par_ville = jointure_pb_refroidissement.groupby('location').size()\n",
    "moyenne_pb_refroidissement_par_ville = pb_refroidissement_par_ville.mean()\n",
    "\n",
    "nb_pb_refroidissement_mexique = len(jointure[jointure.statusId == 25][jointure.location == 'Mexico City'])\n",
    "nb_pb_refroidissement_mexique"
   ]
  },
  {
   "cell_type": "markdown",
   "metadata": {},
   "source": [
    "## Graphique"
   ]
  },
  {
   "cell_type": "code",
   "execution_count": 83,
   "metadata": {},
   "outputs": [
    {
     "data": {
      "image/png": "[encoded data removed]",
      "text/plain": [
       "<Figure size 720x432 with 1 Axes>"
      ]
     },
     "metadata": {
      "needs_background": "light"
     },
     "output_type": "display_data"
    }
   ],
   "source": [
    "import matplotlib.pyplot as plt\n",
    "import matplotlib.patches as mpatches\n",
    "\n",
    "def double_barplot():\n",
    "    plt.figure(figsize=(10, 6))\n",
    "\n",
    "    # Abscisses\n",
    "    x = ['Moteur', 'Turbo', 'Refroidissement']\n",
    "\n",
    "    # Hauteurs\n",
    "    nb_total = [moyenne_pb_moteur_par_ville, moyenne_pb_turbo_par_ville, moyenne_pb_refroidissement_par_ville]\n",
    "    nb_mexico = [nb_pb_moteur_mexique, nb_pb_turbo_mexique, nb_pb_refroidissement_mexique]\n",
    "\n",
    "    # Barplots\n",
    "    plt.bar(x=x, height=nb_total, width=-0.4, align='edge', color='beige')\n",
    "    plt.bar(x=x, height=nb_mexico, width=+0.4, align='edge', color='red')\n",
    "\n",
    "    plt.xticks(x)\n",
    "    plt.xlabel('Problèmes')\n",
    "    plt.ylabel('Nombres de problèmes')\n",
    "    plt.title('Nombre de problèmes à Mexico City comparé à la moyenne mondiale', fontsize=20)\n",
    "\n",
    "    # Légende\n",
    "    plt.legend(['Moyenne mondiale', 'Mexico City'])\n",
    "\n",
    "    # Affichage de la figure\n",
    "    plt.show()\n",
    "\n",
    "\n",
    "double_barplot()"
   ]
  }
 ],
 "metadata": {
  "kernelspec": {
   "display_name": "base",
   "language": "python",
   "name": "python3"
  },
  "language_info": {
   "codemirror_mode": {
    "name": "ipython",
    "version": 3
   },
   "file_extension": ".py",
   "mimetype": "text/x-python",
   "name": "python",
   "nbconvert_exporter": "python",
   "pygments_lexer": "ipython3",
   "version": "3.9.7"
  }
 },
 "nbformat": 4,
 "nbformat_minor": 2
}
