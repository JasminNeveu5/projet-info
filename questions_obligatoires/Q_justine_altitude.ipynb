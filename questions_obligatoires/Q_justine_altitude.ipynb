{
 "cells": [
  {
   "cell_type": "markdown",
   "metadata": {},
   "source": [
    "# Sur quels paramètres l'altitude influe-t-elle le plus ?"
   ]
  },
  {
   "cell_type": "markdown",
   "metadata": {},
   "source": [
    "## Code"
   ]
  },
  {
   "cell_type": "code",
   "execution_count": 19,
   "metadata": {},
   "outputs": [
    {
     "data": {
      "text/html": [
       "<div>\n",
       "<style scoped>\n",
       "    .dataframe tbody tr th:only-of-type {\n",
       "        vertical-align: middle;\n",
       "    }\n",
       "\n",
       "    .dataframe tbody tr th {\n",
       "        vertical-align: top;\n",
       "    }\n",
       "\n",
       "    .dataframe thead th {\n",
       "        text-align: right;\n",
       "    }\n",
       "</style>\n",
       "<table border=\"1\" class=\"dataframe\">\n",
       "  <thead>\n",
       "    <tr style=\"text-align: right;\">\n",
       "      <th></th>\n",
       "      <th>resultId</th>\n",
       "      <th>location</th>\n",
       "      <th>statusId</th>\n",
       "      <th>status</th>\n",
       "    </tr>\n",
       "  </thead>\n",
       "  <tbody>\n",
       "    <tr>\n",
       "      <th>0</th>\n",
       "      <td>1</td>\n",
       "      <td>Melbourne</td>\n",
       "      <td>1</td>\n",
       "      <td>Finished</td>\n",
       "    </tr>\n",
       "    <tr>\n",
       "      <th>1</th>\n",
       "      <td>2</td>\n",
       "      <td>Melbourne</td>\n",
       "      <td>1</td>\n",
       "      <td>Finished</td>\n",
       "    </tr>\n",
       "    <tr>\n",
       "      <th>2</th>\n",
       "      <td>3</td>\n",
       "      <td>Melbourne</td>\n",
       "      <td>1</td>\n",
       "      <td>Finished</td>\n",
       "    </tr>\n",
       "    <tr>\n",
       "      <th>3</th>\n",
       "      <td>4</td>\n",
       "      <td>Melbourne</td>\n",
       "      <td>1</td>\n",
       "      <td>Finished</td>\n",
       "    </tr>\n",
       "    <tr>\n",
       "      <th>4</th>\n",
       "      <td>5</td>\n",
       "      <td>Melbourne</td>\n",
       "      <td>1</td>\n",
       "      <td>Finished</td>\n",
       "    </tr>\n",
       "    <tr>\n",
       "      <th>...</th>\n",
       "      <td>...</td>\n",
       "      <td>...</td>\n",
       "      <td>...</td>\n",
       "      <td>...</td>\n",
       "    </tr>\n",
       "    <tr>\n",
       "      <th>26514</th>\n",
       "      <td>26520</td>\n",
       "      <td>Silverstone</td>\n",
       "      <td>12</td>\n",
       "      <td>+2 Laps</td>\n",
       "    </tr>\n",
       "    <tr>\n",
       "      <th>26515</th>\n",
       "      <td>26521</td>\n",
       "      <td>Silverstone</td>\n",
       "      <td>12</td>\n",
       "      <td>+2 Laps</td>\n",
       "    </tr>\n",
       "    <tr>\n",
       "      <th>26516</th>\n",
       "      <td>26522</td>\n",
       "      <td>Silverstone</td>\n",
       "      <td>12</td>\n",
       "      <td>+2 Laps</td>\n",
       "    </tr>\n",
       "    <tr>\n",
       "      <th>26517</th>\n",
       "      <td>26523</td>\n",
       "      <td>Silverstone</td>\n",
       "      <td>34</td>\n",
       "      <td>Water pressure</td>\n",
       "    </tr>\n",
       "    <tr>\n",
       "      <th>26518</th>\n",
       "      <td>26524</td>\n",
       "      <td>Silverstone</td>\n",
       "      <td>6</td>\n",
       "      <td>Gearbox</td>\n",
       "    </tr>\n",
       "  </tbody>\n",
       "</table>\n",
       "<p>26519 rows × 4 columns</p>\n",
       "</div>"
      ],
      "text/plain": [
       "       resultId     location  statusId          status\n",
       "0             1    Melbourne         1        Finished\n",
       "1             2    Melbourne         1        Finished\n",
       "2             3    Melbourne         1        Finished\n",
       "3             4    Melbourne         1        Finished\n",
       "4             5    Melbourne         1        Finished\n",
       "...         ...          ...       ...             ...\n",
       "26514     26520  Silverstone        12         +2 Laps\n",
       "26515     26521  Silverstone        12         +2 Laps\n",
       "26516     26522  Silverstone        12         +2 Laps\n",
       "26517     26523  Silverstone        34  Water pressure\n",
       "26518     26524  Silverstone         6         Gearbox\n",
       "\n",
       "[26519 rows x 4 columns]"
      ]
     },
     "execution_count": 19,
     "metadata": {},
     "output_type": "execute_result"
    }
   ],
   "source": [
    "import pandas as pd\n",
    "\n",
    "results = pd.read_csv(\n",
    "                'C:/DEVOIRS/ENSAI1A/projet-info/data/results.csv'\n",
    "                )\n",
    "status = pd.read_csv('C:/DEVOIRS/ENSAI1A/projet-info/data/status.csv')\n",
    "races = pd.read_csv('C:/DEVOIRS/ENSAI1A/projet-info/data/races.csv')\n",
    "circuits = pd.read_csv('C:/DEVOIRS/ENSAI1A/projet-info/data/circuits.csv')\n",
    "\n",
    "jointure = pd.merge(results, status, on='statusId', how='left')\n",
    "jointure = pd.merge(jointure, races, on='raceId', how='left')\n",
    "jointure = pd.merge(jointure, circuits, on='circuitId', how='left')\n",
    "\n",
    "jointure = jointure[['resultId', 'location', 'statusId', 'status']]\n",
    "jointure"
   ]
  },
  {
   "cell_type": "markdown",
   "metadata": {},
   "source": [
    "### Problèmes moteur"
   ]
  },
  {
   "cell_type": "code",
   "execution_count": 55,
   "metadata": {},
   "outputs": [
    {
     "name": "stderr",
     "output_type": "stream",
     "text": [
      "C:\\Users\\UTILIS~1\\AppData\\Local\\Temp/ipykernel_17508/254012180.py:5: UserWarning: Boolean Series key will be reindexed to match DataFrame index.\n",
      "  nb_pb_moteur_mexique = len(jointure[jointure.statusId == 5][jointure.location == 'Mexico City'])\n"
     ]
    },
    {
     "data": {
      "text/plain": [
       "50"
      ]
     },
     "execution_count": 55,
     "metadata": {},
     "output_type": "execute_result"
    }
   ],
   "source": [
    "jointure_pb_moteur = jointure[jointure['statusId'] == 5]\n",
    "pb_moteur_par_ville = jointure_pb_moteur.groupby('location').size()\n",
    "moyenne_pb_moteur_par_ville = pb_moteur_par_ville.mean()\n",
    "\n",
    "nb_pb_moteur_mexique = len(jointure[jointure.statusId == 5][jointure.location == 'Mexico City'])\n",
    "nb_pb_moteur_mexique"
   ]
  },
  {
   "cell_type": "markdown",
   "metadata": {},
   "source": [
    "### Problèmes de frein"
   ]
  },
  {
   "cell_type": "code",
   "execution_count": 56,
   "metadata": {},
   "outputs": [
    {
     "name": "stderr",
     "output_type": "stream",
     "text": [
      "C:\\Users\\UTILIS~1\\AppData\\Local\\Temp/ipykernel_17508/2321736852.py:5: UserWarning: Boolean Series key will be reindexed to match DataFrame index.\n",
      "  nb_pb_frein_mexique = len(jointure[jointure.statusId == 23][jointure.location == 'Mexico City'])\n"
     ]
    },
    {
     "data": {
      "text/plain": [
       "4"
      ]
     },
     "execution_count": 56,
     "metadata": {},
     "output_type": "execute_result"
    }
   ],
   "source": [
    "jointure_pb_frein = jointure[jointure['statusId'] == 23]\n",
    "pb_frein_par_ville = jointure_pb_frein.groupby('location').size()\n",
    "moyenne_pb_frein_par_ville = pb_frein_par_ville.mean()\n",
    "\n",
    "nb_pb_frein_mexique = len(jointure[jointure.statusId == 23][jointure.location == 'Mexico City'])\n",
    "nb_pb_frein_mexique"
   ]
  },
  {
   "cell_type": "markdown",
   "metadata": {},
   "source": [
    "### Problèmes de refroidissement"
   ]
  },
  {
   "cell_type": "code",
   "execution_count": 57,
   "metadata": {},
   "outputs": [
    {
     "name": "stderr",
     "output_type": "stream",
     "text": [
      "C:\\Users\\UTILIS~1\\AppData\\Local\\Temp/ipykernel_17508/592535335.py:5: UserWarning: Boolean Series key will be reindexed to match DataFrame index.\n",
      "  nb_pb_refroidissement_mexique = len(jointure[jointure.statusId == 25][jointure.location == 'Mexico City'])\n"
     ]
    },
    {
     "data": {
      "text/plain": [
       "8"
      ]
     },
     "execution_count": 57,
     "metadata": {},
     "output_type": "execute_result"
    }
   ],
   "source": [
    "jointure_pb_refroidissement = jointure[jointure['statusId'] == 25]\n",
    "pb_refroidissement_par_ville = jointure_pb_refroidissement.groupby('location').size()\n",
    "moyenne_pb_refroidissement_par_ville = pb_refroidissement_par_ville.mean()\n",
    "\n",
    "nb_pb_refroidissement_mexique = len(jointure[jointure.statusId == 25][jointure.location == 'Mexico City'])\n",
    "nb_pb_refroidissement_mexique"
   ]
  },
  {
   "cell_type": "markdown",
   "metadata": {},
   "source": [
    "## Graphique"
   ]
  },
  {
   "cell_type": "code",
   "execution_count": 58,
   "metadata": {},
   "outputs": [
    {
     "data": {
      "image/png": "[encoded data removed]",
      "text/plain": [
       "<Figure size 432x288 with 1 Axes>"
      ]
     },
     "metadata": {
      "needs_background": "light"
     },
     "output_type": "display_data"
    }
   ],
   "source": [
    "import matplotlib.pyplot as plt\n",
    "import numpy as np\n",
    "\n",
    "def double_barplot():\n",
    "    # Abscisses\n",
    "    x = ['Moteur', 'Freins', 'Refroidissement']\n",
    "\n",
    "    # Hauteurs\n",
    "    nb_total = [moyenne_pb_moteur_par_ville, moyenne_pb_frein_par_ville, moyenne_pb_refroidissement_par_ville]\n",
    "    nb_mexico = [nb_pb_moteur_mexique, nb_pb_frein_mexique, nb_pb_refroidissement_mexique]\n",
    "\n",
    "    # Barplots\n",
    "    plt.bar(x=x, height=nb_total, width=-0.4, align='edge')\n",
    "    plt.bar(x=x, height=nb_mexico, width=+0.4, align='edge')\n",
    "\n",
    "    # Barres de l'axe des abscisses\n",
    "    plt.xticks(x)\n",
    "    plt.xlabel('Problèmes')\n",
    "\n",
    "    # Affichage de la figure\n",
    "    plt.show()\n",
    "\n",
    "\n",
    "double_barplot()"
   ]
  }
 ],
 "metadata": {
  "kernelspec": {
   "display_name": "base",
   "language": "python",
   "name": "python3"
  },
  "language_info": {
   "codemirror_mode": {
    "name": "ipython",
    "version": 3
   },
   "file_extension": ".py",
   "mimetype": "text/x-python",
   "name": "python",
   "nbconvert_exporter": "python",
   "pygments_lexer": "ipython3",
   "version": "3.9.7"
  }
 },
 "nbformat": 4,
 "nbformat_minor": 2
}
