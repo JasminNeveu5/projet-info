{
 "cells": [
  {
   "cell_type": "markdown",
   "metadata": {},
   "source": [
    " # Question 2 : Quel était le classement des pilotes à l'issue de la saison 2023 ? Gérer les cas d'égalité (nombre de victoires, deuxièmes places, etc.)."
   ]
  },
  {
   "metadata": {},
   "cell_type": "code",
   "outputs": [],
   "execution_count": null,
   "source": [
    "import pandas as pd\n",
    "import sys\n",
    "from pathlib import Path\n",
    "PROJECT_ROOT = Path.cwd().parent\n",
    "sys.path.append(str(PROJECT_ROOT))\n",
    "from options.config import DATA_DIR\n",
    "\n",
    "results = pd.read_csv(f\"{DATA_DIR}/results.csv\")\n",
    "races = pd.read_csv(\"../data/races.csv\")\n",
    "drivers = pd.read_csv(\"../data/drivers.csv\")\n"
   ]
  },
  {
   "metadata": {},
   "cell_type": "code",
   "outputs": [],
   "execution_count": null,
   "source": [
    "races_2023 = pd.merge(results,races[races[\"year\"] == 2023], on=\"raceId\")\n",
    "races_2023['positionOrder'] = races_2023['positionOrder'].astype(int)\n",
    "points_wins = races_2023.groupby('driverId').agg({'points': 'sum', 'positionOrder': lambda x: (x == 1).sum(), 'positionOrder': lambda x: (x == 2).sum(), 'positionOrder': lambda x: (x == 3).sum()}).reset_index()\n",
    "points_wins.columns = ['driverId', 'points', 'wins', 'second_places', 'third_places']\n",
    "sorted_drivers = points_wins.sort_values(by=['points', 'wins', 'second_places', 'third_places'], ascending=[False, False, False, False])\n",
    "pd.merge(sorted_drivers, drivers, on='driverId')[['forename', 'surname', 'points']]\n"
   ]
  },
  {
   "cell_type": "markdown",
   "metadata": {},
   "source": [
    "one-liner pour l'api"
   ]
  },
  {
   "cell_type": "code",
   "execution_count": 7,
   "metadata": {},
   "outputs": [
    {
     "data": {
      "text/plain": [
       "'[{\"forename\":\"Lewis\",\"surname\":\"Hamilton\",\"points\":384.0},{\"forename\":\"Nico\",\"surname\":\"Rosberg\",\"points\":317.0},{\"forename\":\"Daniel\",\"surname\":\"Ricciardo\",\"points\":238.0},{\"forename\":\"Valtteri\",\"surname\":\"Bottas\",\"points\":186.0},{\"forename\":\"Sebastian\",\"surname\":\"Vettel\",\"points\":167.0},{\"forename\":\"Fernando\",\"surname\":\"Alonso\",\"points\":161.0},{\"forename\":\"Felipe\",\"surname\":\"Massa\",\"points\":134.0},{\"forename\":\"Jenson\",\"surname\":\"Button\",\"points\":126.0},{\"forename\":\"Nico\",\"surname\":\"H\\\\u00fclkenberg\",\"points\":96.0},{\"forename\":\"Sergio\",\"surname\":\"P\\\\u00e9rez\",\"points\":59.0},{\"forename\":\"Kevin\",\"surname\":\"Magnussen\",\"points\":55.0},{\"forename\":\"Kimi\",\"surname\":\"R\\\\u00e4ikk\\\\u00f6nen\",\"points\":55.0},{\"forename\":\"Jean-\\\\u00c9ric\",\"surname\":\"Vergne\",\"points\":22.0},{\"forename\":\"Romain\",\"surname\":\"Grosjean\",\"points\":8.0},{\"forename\":\"Daniil\",\"surname\":\"Kvyat\",\"points\":8.0},{\"forename\":\"Pastor\",\"surname\":\"Maldonado\",\"points\":2.0},{\"forename\":\"Jules\",\"surname\":\"Bianchi\",\"points\":2.0},{\"forename\":\"Adrian\",\"surname\":\"Sutil\",\"points\":0.0},{\"forename\":\"Kamui\",\"surname\":\"Kobayashi\",\"points\":0.0},{\"forename\":\"Max\",\"surname\":\"Chilton\",\"points\":0.0},{\"forename\":\"Esteban\",\"surname\":\"Guti\\\\u00e9rrez\",\"points\":0.0},{\"forename\":\"Andr\\\\u00e9\",\"surname\":\"Lotterer\",\"points\":0.0},{\"forename\":\"Marcus\",\"surname\":\"Ericsson\",\"points\":0.0},{\"forename\":\"Will\",\"surname\":\"Stevens\",\"points\":0.0}]'"
      ]
     },
     "execution_count": 7,
     "metadata": {},
     "output_type": "execute_result"
    }
   ],
   "source": [
    "races_year = pd.merge(results, races[races[\"year\"] == 2014], on=\"raceId\")\n",
    "races_year[\"positionOrder\"] = races_year[\"positionOrder\"].astype(int)\n",
    "points_wins = (\n",
    "    races_year.groupby(\"driverId\")\n",
    "    .agg(\n",
    "        points=(\"points\", \"sum\"),\n",
    "        wins=(\"positionOrder\", lambda x: (x == 1).sum()),\n",
    "        second_places=(\"positionOrder\", lambda x: (x == 2).sum()),\n",
    "        third_places=(\"positionOrder\", lambda x: (x == 3).sum()),\n",
    "    )\n",
    "    .reset_index()\n",
    ")\n",
    "\n",
    "sorted_drivers = points_wins.sort_values(\n",
    "    by=[\"points\", \"wins\", \"second_places\", \"third_places\"],\n",
    "    ascending=[False, False, False, False],\n",
    ")\n",
    "\n",
    "pd.merge(sorted_drivers, drivers, on=\"driverId\")[\n",
    "        [\"forename\", \"surname\", \"points\"]\n",
    "    ].to_json(orient=\"records\")\n"
   ]
  }
 ],
 "metadata": {
  "kernelspec": {
   "display_name": "3.13.1",
   "language": "python",
   "name": "python3"
  },
  "language_info": {
   "codemirror_mode": {
    "name": "ipython",
    "version": 3
   },
   "file_extension": ".py",
   "mimetype": "text/x-python",
   "name": "python",
   "nbconvert_exporter": "python",
   "pygments_lexer": "ipython3",
   "version": "3.13.1"
  }
 },
 "nbformat": 4,
 "nbformat_minor": 2
}
