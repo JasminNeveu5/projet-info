{
 "cells": [
  {
   "cell_type": "markdown",
   "metadata": {},
   "source": [
    "# Question 1 : Quels pilotes ont gagné au moins 30 courses ? Indiquez le nombre de victoires pour ces personnes."
   ]
  },
  {
   "cell_type": "code",
   "execution_count": null,
   "metadata": {},
   "outputs": [
    {
     "data": {
      "text/html": [
       "<div>\n",
       "<style scoped>\n",
       "    .dataframe tbody tr th:only-of-type {\n",
       "        vertical-align: middle;\n",
       "    }\n",
       "\n",
       "    .dataframe tbody tr th {\n",
       "        vertical-align: top;\n",
       "    }\n",
       "\n",
       "    .dataframe thead th {\n",
       "        text-align: right;\n",
       "    }\n",
       "</style>\n",
       "<table border=\"1\" class=\"dataframe\">\n",
       "  <thead>\n",
       "    <tr style=\"text-align: right;\">\n",
       "      <th></th>\n",
       "      <th>forename</th>\n",
       "      <th>surname</th>\n",
       "      <th>Nombre de victoires</th>\n",
       "    </tr>\n",
       "  </thead>\n",
       "  <tbody>\n",
       "    <tr>\n",
       "      <th>0</th>\n",
       "      <td>Lewis</td>\n",
       "      <td>Hamilton</td>\n",
       "      <td>104</td>\n",
       "    </tr>\n",
       "    <tr>\n",
       "      <th>15</th>\n",
       "      <td>Michael</td>\n",
       "      <td>Schumacher</td>\n",
       "      <td>91</td>\n",
       "    </tr>\n",
       "    <tr>\n",
       "      <th>107</th>\n",
       "      <td>Max</td>\n",
       "      <td>Verstappen</td>\n",
       "      <td>61</td>\n",
       "    </tr>\n",
       "    <tr>\n",
       "      <th>11</th>\n",
       "      <td>Sebastian</td>\n",
       "      <td>Vettel</td>\n",
       "      <td>53</td>\n",
       "    </tr>\n",
       "    <tr>\n",
       "      <th>29</th>\n",
       "      <td>Alain</td>\n",
       "      <td>Prost</td>\n",
       "      <td>51</td>\n",
       "    </tr>\n",
       "  </tbody>\n",
       "</table>\n",
       "</div>"
      ],
      "text/plain": [
       "      forename     surname  Nombre de victoires\n",
       "0        Lewis    Hamilton                  104\n",
       "15     Michael  Schumacher                   91\n",
       "107        Max  Verstappen                   61\n",
       "11   Sebastian      Vettel                   53\n",
       "29       Alain       Prost                   51"
      ]
     },
     "execution_count": 11,
     "metadata": {},
     "output_type": "execute_result"
    }
   ],
   "source": [
    "import pandas as pd\n",
    "import sys\n",
    "from pathlib import Path\n",
    "PROJECT_ROOT = Path.cwd().parent\n",
    "sys.path.append(str(PROJECT_ROOT))\n",
    "from options.config import DATA_DIR\n",
    "\n",
    "results = pd.read_csv(f\"{DATA_DIR}/results.csv\")\n",
    "drivers = pd.read_csv(f\"{DATA_DIR}/drivers.csv\")\n",
    "winners = results[results[\"position\"] == \"1\"]\n",
    "winners_victoires = winners.groupby(\"driverId\").size().reset_index(name=\"Nombre de victoires\")\n",
    "winners_victoires_name = pd.merge(winners_victoires,drivers,on = \"driverId\")[[\"forename\",\"surname\",\"Nombre de victoires\"]].sort_values(by=\"Nombre de victoires\",ascending=False)\n",
    "winners_victoires_name[winners_victoires_name[\"Nombre de victoires\"] >= 50]\n"
   ]
  },
  {
   "cell_type": "code",
   "execution_count": 10,
   "metadata": {},
   "outputs": [
    {
     "ename": "TypeError",
     "evalue": "list indices must be integers or slices, not str",
     "output_type": "error",
     "traceback": [
      "\u001b[31m---------------------------------------------------------------------------\u001b[39m",
      "\u001b[31mTypeError\u001b[39m                                 Traceback (most recent call last)",
      "\u001b[36mCell\u001b[39m\u001b[36m \u001b[39m\u001b[32mIn[10]\u001b[39m\u001b[32m, line 1\u001b[39m\n\u001b[32m----> \u001b[39m\u001b[32m1\u001b[39m winners = results[\u001b[43mresults\u001b[49m\u001b[43m[\u001b[49m\u001b[33;43m\"\u001b[39;49m\u001b[33;43mposition\u001b[39;49m\u001b[33;43m\"\u001b[39;49m\u001b[43m]\u001b[49m == \u001b[33m\"\u001b[39m\u001b[33m1\u001b[39m\u001b[33m\"\u001b[39m]\n\u001b[32m      2\u001b[39m winners_victoires = winners.groupby(\u001b[33m\"\u001b[39m\u001b[33mdriverId\u001b[39m\u001b[33m\"\u001b[39m).size().reset_index(name=\u001b[33m\"\u001b[39m\u001b[33mNombre de victoires\u001b[39m\u001b[33m\"\u001b[39m)\n\u001b[32m      3\u001b[39m winners_victoires_name = pd.merge(winners_victoires,drivers,on = \u001b[33m\"\u001b[39m\u001b[33mdriverId\u001b[39m\u001b[33m\"\u001b[39m)[[\u001b[33m\"\u001b[39m\u001b[33mforename\u001b[39m\u001b[33m\"\u001b[39m,\u001b[33m\"\u001b[39m\u001b[33msurname\u001b[39m\u001b[33m\"\u001b[39m,\u001b[33m\"\u001b[39m\u001b[33mNombre de victoires\u001b[39m\u001b[33m\"\u001b[39m]].sort_values(by=\u001b[33m\"\u001b[39m\u001b[33mNombre de victoires\u001b[39m\u001b[33m\"\u001b[39m,ascending=\u001b[38;5;28;01mFalse\u001b[39;00m)\n",
      "\u001b[31mTypeError\u001b[39m: list indices must be integers or slices, not str"
     ]
    }
   ],
   "source": [
    "winners = results[results[\"position\"] == \"1\"]\n",
    "winners_victoires = winners.groupby(\"driverId\").size().reset_index(name=\"Nombre de victoires\")\n",
    "winners_victoires_name = pd.merge(winners_victoires,drivers,on = \"driverId\")[[\"forename\",\"surname\",\"Nombre de victoires\"]].sort_values(by=\"Nombre de victoires\",ascending=False)\n",
    "winners_victoires_name[winners_victoires_name[\"Nombre de victoires\"] >= 50]\n"
   ]
  },
  {
   "cell_type": "markdown",
   "metadata": {},
   "source": [
    "En une ligne mdr"
   ]
  },
  {
   "cell_type": "code",
   "execution_count": 7,
   "metadata": {},
   "outputs": [
    {
     "ename": "TypeError",
     "evalue": "Can only merge Series or DataFrame objects, a <class 'list'> was passed",
     "output_type": "error",
     "traceback": [
      "\u001b[31m---------------------------------------------------------------------------\u001b[39m",
      "\u001b[31mTypeError\u001b[39m                                 Traceback (most recent call last)",
      "\u001b[36mCell\u001b[39m\u001b[36m \u001b[39m\u001b[32mIn[7]\u001b[39m\u001b[32m, line 1\u001b[39m\n\u001b[32m----> \u001b[39m\u001b[32m1\u001b[39m \u001b[43mpd\u001b[49m\u001b[43m.\u001b[49m\u001b[43mmerge\u001b[49m\u001b[43m(\u001b[49m\u001b[43mresults\u001b[49m\u001b[43m,\u001b[49m\u001b[43mdrivers\u001b[49m\u001b[43m,\u001b[49m\u001b[43mon\u001b[49m\u001b[43m=\u001b[49m\u001b[33;43m\"\u001b[39;49m\u001b[33;43mdriverId\u001b[39;49m\u001b[33;43m\"\u001b[39;49m\u001b[43m)\u001b[49m.query(\u001b[33m\"\u001b[39m\u001b[33mposition == \u001b[39m\u001b[33m'\u001b[39m\u001b[33m1\u001b[39m\u001b[33m'\u001b[39m\u001b[33m\"\u001b[39m).groupby([\u001b[33m\"\u001b[39m\u001b[33mdriverId\u001b[39m\u001b[33m\"\u001b[39m,\u001b[33m\"\u001b[39m\u001b[33mforename\u001b[39m\u001b[33m\"\u001b[39m,\u001b[33m\"\u001b[39m\u001b[33msurname\u001b[39m\u001b[33m\"\u001b[39m]).size().reset_index(name = \u001b[33m\"\u001b[39m\u001b[33mVictoires\u001b[39m\u001b[33m\"\u001b[39m).query(\u001b[33m\"\u001b[39m\u001b[33mVictoires >= 30\u001b[39m\u001b[33m\"\u001b[39m).sort_values(\u001b[33m\"\u001b[39m\u001b[33mVictoires\u001b[39m\u001b[33m\"\u001b[39m, ascending=\u001b[38;5;28;01mFalse\u001b[39;00m)\n",
      "\u001b[36mFile \u001b[39m\u001b[32m~/.pyenv/versions/3.13.1/lib/python3.13/site-packages/pandas/core/reshape/merge.py:152\u001b[39m, in \u001b[36mmerge\u001b[39m\u001b[34m(left, right, how, on, left_on, right_on, left_index, right_index, sort, suffixes, copy, indicator, validate)\u001b[39m\n\u001b[32m    135\u001b[39m \u001b[38;5;129m@Substitution\u001b[39m(\u001b[33m\"\u001b[39m\u001b[38;5;130;01m\\n\u001b[39;00m\u001b[33mleft : DataFrame or named Series\u001b[39m\u001b[33m\"\u001b[39m)\n\u001b[32m    136\u001b[39m \u001b[38;5;129m@Appender\u001b[39m(_merge_doc, indents=\u001b[32m0\u001b[39m)\n\u001b[32m    137\u001b[39m \u001b[38;5;28;01mdef\u001b[39;00m\u001b[38;5;250m \u001b[39m\u001b[34mmerge\u001b[39m(\n\u001b[32m   (...)\u001b[39m\u001b[32m    150\u001b[39m     validate: \u001b[38;5;28mstr\u001b[39m | \u001b[38;5;28;01mNone\u001b[39;00m = \u001b[38;5;28;01mNone\u001b[39;00m,\n\u001b[32m    151\u001b[39m ) -> DataFrame:\n\u001b[32m--> \u001b[39m\u001b[32m152\u001b[39m     left_df = \u001b[43m_validate_operand\u001b[49m\u001b[43m(\u001b[49m\u001b[43mleft\u001b[49m\u001b[43m)\u001b[49m\n\u001b[32m    153\u001b[39m     right_df = _validate_operand(right)\n\u001b[32m    154\u001b[39m     \u001b[38;5;28;01mif\u001b[39;00m how == \u001b[33m\"\u001b[39m\u001b[33mcross\u001b[39m\u001b[33m\"\u001b[39m:\n",
      "\u001b[36mFile \u001b[39m\u001b[32m~/.pyenv/versions/3.13.1/lib/python3.13/site-packages/pandas/core/reshape/merge.py:2692\u001b[39m, in \u001b[36m_validate_operand\u001b[39m\u001b[34m(obj)\u001b[39m\n\u001b[32m   2690\u001b[39m     \u001b[38;5;28;01mreturn\u001b[39;00m obj.to_frame()\n\u001b[32m   2691\u001b[39m \u001b[38;5;28;01melse\u001b[39;00m:\n\u001b[32m-> \u001b[39m\u001b[32m2692\u001b[39m     \u001b[38;5;28;01mraise\u001b[39;00m \u001b[38;5;167;01mTypeError\u001b[39;00m(\n\u001b[32m   2693\u001b[39m         \u001b[33mf\u001b[39m\u001b[33m\"\u001b[39m\u001b[33mCan only merge Series or DataFrame objects, a \u001b[39m\u001b[38;5;132;01m{\u001b[39;00m\u001b[38;5;28mtype\u001b[39m(obj)\u001b[38;5;132;01m}\u001b[39;00m\u001b[33m was passed\u001b[39m\u001b[33m\"\u001b[39m\n\u001b[32m   2694\u001b[39m     )\n",
      "\u001b[31mTypeError\u001b[39m: Can only merge Series or DataFrame objects, a <class 'list'> was passed"
     ]
    }
   ],
   "source": [
    "pd.merge(results,drivers,on=\"driverId\").query(\"position == '1'\").groupby([\"driverId\",\"forename\",\"surname\"]).size().reset_index(name = \"Victoires\").query(\"Victoires >= 30\").sort_values(\"Victoires\", ascending=False)\n"
   ]
  },
  {
   "cell_type": "code",
   "execution_count": 15,
   "metadata": {},
   "outputs": [
    {
     "name": "stdout",
     "output_type": "stream",
     "text": [
      "8\n"
     ]
    }
   ],
   "source": [
    "from options.config import DATA_DIR\n",
    "from methodes_pures import read_csv, merge\n",
    "\n",
    "drivers_path = f\"{DATA_DIR}/drivers.csv\"\n",
    "results_path = f\"{DATA_DIR}/results.csv\"\n",
    "\n",
    "drivers = read_csv(drivers_path)\n",
    "results = read_csv(results_path)\n",
    "drivers_x_results = merge(drivers, results, \"driverId\")\n",
    "winners = []\n",
    "\n",
    "\n",
    "for dico in results:\n",
    "    if dico[\"position\"] == \"1\":\n",
    "        winners.append(dico)\n",
    "\n",
    "\n",
    "\n",
    "def count_driver_ids(list_of_dicos):\n",
    "    # Create an empty dictionary to store counts of driverId\n",
    "    driver_id_counts = {}\n",
    "\n",
    "    # Iterate through each dictionary in the list\n",
    "    for dico in list_of_dicos:\n",
    "        driver_id = dico.get('driverId')  # Get the value of driverId\n",
    "        if driver_id:\n",
    "            # Increment the count for this driverId\n",
    "            if driver_id in driver_id_counts:\n",
    "                driver_id_counts[driver_id] += 1\n",
    "            else:\n",
    "                driver_id_counts[driver_id] = 1\n",
    "\n",
    "    # Convert the driver_id_counts dictionary into a list of dictionaries\n",
    "    result = [{'driverId': driver_id, 'nb_victoires': count} for driver_id, count in driver_id_counts.items()]\n",
    "\n",
    "    return result\n",
    "\n",
    "winners_victoires = count_driver_ids(winners)\n",
    "\n",
    "winners_victoires_name = []\n",
    "\n",
    "for dico in winners_victoires:\n",
    "    if dico[\"nb_victoires\"] > 50:\n",
    "        winners_victoires_name.append(dico)\n",
    "\n",
    "\n",
    "print(len(merge(winners_victoires_name,drivers,\"driverId\")))\n"
   ]
  }
 ],
 "metadata": {
  "kernelspec": {
   "display_name": "3.13.1",
   "language": "python",
   "name": "python3"
  },
  "language_info": {
   "codemirror_mode": {
    "name": "ipython",
    "version": 3
   },
   "file_extension": ".py",
   "mimetype": "text/x-python",
   "name": "python",
   "nbconvert_exporter": "python",
   "pygments_lexer": "ipython3",
   "version": "3.13.1"
  }
 },
 "nbformat": 4,
 "nbformat_minor": 2
}
